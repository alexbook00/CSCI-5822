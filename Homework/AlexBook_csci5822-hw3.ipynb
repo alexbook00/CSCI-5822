{
 "cells": [
  {
   "cell_type": "markdown",
   "id": "impossible-ratio",
   "metadata": {},
   "source": [
    "# CSCI 5822 Assignment 3\n",
    "\n",
    "\n",
    "<div class=\"alert alert-block alert-danger\">\n",
    "    \n",
    "<b>Assigned:</b> Feb 26, 2021.\n",
    "\n",
    "<b>Due:</b> Mar 12 (11:59pm, MST), on Canvas.\n",
    "\n",
    "<b>Update:</b> You can submit either PDF or HTML file. If you prefer not to use LaTeX, it's fine too. Just make sure that your answers are displayed clearly and only submit one file.\n",
    "    \n",
    "<b>Note:</b> Tasks 1-6 are about Chapter 4 in the book, whereas Tasks 7 and 8 are for Chapter 5.\n",
    "    \n",
    "</div>\n",
    "\n",
    "\n",
    "\n",
    "\n",
    "Do not forget to edit your name here.\n",
    "\n",
    "<div class=\"alert alert-block alert-success\">\n",
    "\n",
    "<b>Name:</b> Alex Book\n",
    "    \n",
    "<b>Collaborated With:</b> Cole Sturza\n",
    "\n",
    "</div>\n",
    "\n",
    "The collaboration/anti-plagiarism policy for this course can be found in the syllabus statements.\n",
    "\n",
    "The questions  provided  below will ask you to either write code or \n",
    "write answers in the form of markdown. Markdown syntax guide is here: [click here](https://www.markdownguide.org/basic-syntax/). \n",
    "\n",
    "----\n",
    "\n",
    "We will follow the following grading rubrics.\n",
    "+ 10: correct answer, work is shown and clear\n",
    "+ 8: correct answer but work might be difficult to read\n",
    "+ 6: incorrect answer but good attempt\n",
    "+ 4: mediocre attempt or very difficult to read\n",
    "+ 2: problem is written down, no attempt to solve\n",
    "+ 0: problem is not written down\n",
    "\n",
    "\n",
    "__Double click anywhere on this box to find out how your instructor typeset it. Press Shift+Enter to go back.__\n"
   ]
  },
  {
   "cell_type": "markdown",
   "id": "secret-liechtenstein",
   "metadata": {},
   "source": [
    "<div class=\"alert alert-block alert-info\">\n",
    "<b>Task 1:</b> (10 points, 5 each).\n",
    "\n",
    "(1) Consider the pairwise Markov network,\n",
    "    \n",
    "$$p(x) = \\phi(x_1, x_2) \\phi(x_2, x_3) \\phi(x_3, x_4) \\phi(x_4, x_1)$$\n",
    "    \n",
    "Express in terms of $\\phi$ the following:\n",
    "    \n",
    "$$p(x_1|x_2, x_4),\\  p(x_2|x_1, x_3),\\  p(x_3|x_2, x_4),\\  p(x_4|x_1, x_3) \\ .$$\n",
    "    \n",
    "(2) For a set of local distributions defined as\n",
    "    \n",
    "$$ p_1(x_1|x_2, x_4),\\  p_2(x_2|x_1, x_3),\\  p_3(x_3|x_2, x_4),\\  p_4(x_4|x_1, x_3) \\ ,$$\n",
    "    \n",
    "is it always possible to find a joint distribution $p(x_1, x_2, x_3, x_4)$ consistent with these local conditional distributions?\n",
    "\n",
    "\n",
    "</div>"
   ]
  },
  {
   "cell_type": "code",
   "execution_count": null,
   "id": "coordinated-mandate",
   "metadata": {},
   "outputs": [],
   "source": [
    "# Your answer to Task 1\n",
    "# Expected lines:\n",
    "# (1) Four equalities\n",
    "# (2) If yay, prove it. If nay, find a counterexample and explain."
   ]
  },
  {
   "cell_type": "markdown",
   "id": "subjective-wisdom",
   "metadata": {},
   "source": [
    "##### 1.\n",
    "$\\begin{align*}\n",
    "P(x_1 | x_2, x_4) &= \\frac{p(x_1, x_2, x_4)}{p(x_2, x_4)} \\\\\n",
    "&= \\frac{\\sum\\limits_{x_3} p(x_1, x_2, x_3, x_4)}{\\sum\\limits_{x_1, x_3} p(x_1, x_2, x_3, x_4)} \\\\\n",
    "&= \\frac{\\sum\\limits_{x_3} \\phi(x_1, x_2) \\phi(x_2, x_3) \\phi(x_3, x_4) \\phi(x_4, x_1)}{\\sum\\limits_{x_1, x_3} \\phi(x_1, x_2) \\phi(x_2, x_3) \\phi(x_3, x_4) \\phi(x_4, x_1)} \\\\\n",
    "&= \\frac{\\phi(x_1, x_2) \\phi(x_4, x_1) \\sum\\limits_{x_3} \\phi(x_2, x_3) \\phi(x_3, x_4) }{\\sum\\limits_{x_1} \\phi(x_1, x_2) \\phi(x_4, x_1) \\sum\\limits_{x_3}  \\phi(x_2, x_3) \\phi(x_3, x_4)} \\\\\n",
    "&= \\frac{\\phi(x_1, x_2) \\phi(x_4, x_1)}{\\sum\\limits_{x_1} \\phi(x_1, x_2) \\phi(x_4, x_1)}\n",
    "\\end{align*}$"
   ]
  },
  {
   "cell_type": "markdown",
   "id": "rolled-theme",
   "metadata": {},
   "source": [
    "$\\begin{align*}\n",
    "P(x_2 | x_1, x_3) &= \\frac{p(x_1, x_2, x_3)}{p(x_1, x_3)} \\\\\n",
    "&= \\frac{\\sum\\limits_{x_4} p(x_1, x_2, x_3, x_4)}{\\sum\\limits_{x_2, x_4} p(x_1, x_2, x_3, x_4)} \\\\\n",
    "&= \\frac{\\sum\\limits_{x_4} \\phi(x_1, x_2) \\phi(x_2, x_3) \\phi(x_3, x_4) \\phi(x_4, x_1)}{\\sum\\limits_{x_2, x_4} \\phi(x_1, x_2) \\phi(x_2, x_3) \\phi(x_3, x_4) \\phi(x_4, x_1)} \\\\\n",
    "&= \\frac{\\phi(x_1, x_2) \\phi(x_2, x_3) \\sum\\limits_{x_4} \\phi(x_3, x_4) \\phi(x_4, x_1)}{\\sum\\limits_{x_2} \\phi(x_1, x_2) \\phi(x_2, x_3) \\sum\\limits_{x_4} \\phi(x_3, x_4) \\phi(x_4, x_1)} \\\\\n",
    "&= \\frac{\\phi(x_1, x_2) \\phi(x_2, x_3)}{\\sum\\limits_{x_2} \\phi(x_1, x_2) \\phi(x_2, x_3)}\n",
    "\\end{align*}$"
   ]
  },
  {
   "cell_type": "markdown",
   "id": "great-lesson",
   "metadata": {},
   "source": [
    "$\\begin{align*}\n",
    "P(x_3 | x_2, x_4) &= \\frac{p(x_2, x_3, x_4)}{p(x_2, x_4)} \\\\\n",
    "&= \\frac{\\sum\\limits_{x_1} p(x_1, x_2, x_3, x_4)}{\\sum\\limits_{x_1, x_3} p(x_1, x_2, x_3, x_4)} \\\\\n",
    "&= \\frac{\\sum\\limits_{x_1} \\phi(x_1, x_2) \\phi(x_2, x_3) \\phi(x_3, x_4) \\phi(x_4, x_1)}{\\sum\\limits_{x_1, x_3} \\phi(x_1, x_2) \\phi(x_2, x_3) \\phi(x_3, x_4) \\phi(x_4, x_1)} \\\\\n",
    "&= \\frac{\\phi(x_2, x_3) \\phi(x_3, x_4) \\sum\\limits_{x_1} \\phi(x_1, x_2) \\phi(x_4, x_1)}{\\sum\\limits_{x_3} \\phi(x_2, x_3) \\phi(x_3, x_4) \\sum\\limits_{x_1} \\phi(x_1, x_2) \\phi(x_4, x_1)} \\\\\n",
    "&= \\frac{\\phi(x_2, x_3) \\phi(x_3, x_4)}{\\sum\\limits_{x_3}  \\phi(x_2, x_3)\\phi(x_3, x_4)}\n",
    "\\end{align*}$"
   ]
  },
  {
   "cell_type": "markdown",
   "id": "inclusive-village",
   "metadata": {},
   "source": [
    "$\\begin{align*}\n",
    "P(x_4 | x_1, x_3) &= \\frac{p(x_1, x_3, x_4)}{p(x_1, x_3)} \\\\\n",
    "&= \\frac{\\sum\\limits_{x_2} p(x_1, x_2, x_3, x_4)}{\\sum\\limits_{x_2, x_4} p(x_1, x_2, x_3, x_4)} \\\\\n",
    "&= \\frac{\\sum\\limits_{x_2} \\phi(x_1, x_2) \\phi(x_2, x_3) \\phi(x_3, x_4) \\phi(x_4, x_1)}{\\sum\\limits_{x_2, x_4} \\phi(x_1, x_2) \\phi(x_2, x_3) \\phi(x_3, x_4) \\phi(x_4, x_1)} \\\\\n",
    "&= \\frac{\\phi(x_3, x_4) \\phi(x_4, x_1) \\sum\\limits_{x_2} \\phi(x_1, x_2) \\phi(x_2, x_3)}{\\sum\\limits_{x_4} \\phi(x_3, x_4) \\phi(x_4, x_1) \\sum\\limits_{x_2} \\phi(x_1, x_2) \\phi(x_2, x_3)} \\\\\n",
    "&= \\frac{\\phi(x_3, x_4) \\phi(x_4, x_1)}{\\sum\\limits_{x_4} \\phi(x_3, x_4) \\phi(x_4, x_1)}\n",
    "\\end{align*}$"
   ]
  },
  {
   "cell_type": "markdown",
   "id": "talented-virus",
   "metadata": {},
   "source": [
    "##### 2.\n",
    "<img src=\"data:image/png;base64,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\"/>"
   ]
  },
  {
   "cell_type": "markdown",
   "id": "metallic-southeast",
   "metadata": {},
   "source": [
    "The above graph is formed by the given local distributions. It is cyclic, which is disallowed in belief networks (a belief network must be a DAG). Therefore, it is not possible to find a joint distribution $p(x_1, x_2, x_3, x_4)$ that is consistent with the given local distributions."
   ]
  },
  {
   "cell_type": "markdown",
   "id": "electronic-helen",
   "metadata": {},
   "source": [
    "<div class=\"alert alert-block alert-info\">\n",
    "<b>Task 2:</b> (10 points).\n",
    "    \n",
    "Consider the Markov network\n",
    "    \n",
    "$$p(a, b, c) = \\phi_{ab}(a, b)\\phi_{bc}(b, c)$$\n",
    "    \n",
    "Nominally, by summing over $b$, the variables $a$ and $c$ are dependent. For binary $b$, explain a situation in which this is not the case, so that marginally, $a$ and $c$ are independent.\n",
    "\n",
    "</div>"
   ]
  },
  {
   "cell_type": "code",
   "execution_count": 2,
   "id": "incident-seeker",
   "metadata": {},
   "outputs": [],
   "source": [
    "# Your answer to Task 2 (expected lines: 2~3)"
   ]
  },
  {
   "cell_type": "markdown",
   "id": "naked-saver",
   "metadata": {},
   "source": [
    "$\\begin{align*}\n",
    "p(a, c) &= \\sum\\limits_{b} \\phi_{ab}(a, b)\\phi_{bc}(b, c) \\\\\n",
    "&= \\phi_{ab}(a, b=0) \\underbrace{\\phi_{bc}(b=0, c)}_\\text{set this to equal 0} + \\phi_{ab}(a, b=1) \\phi_{bc}(b=1, c) \\\\\n",
    "&= \\phi_{ab}(a, b=1) \\phi_{bc}(b=1, c) & \\text{$b$ is a constant here, so this factors to $\\phi_{a}(a) \\phi_{c}(c) = \\phi(a) \\phi(c)$}\\\\\n",
    "&= \\phi(a) \\phi(c)\n",
    "\\end{align*}$\n",
    "\n",
    "So, in such a situation, where $\\phi_{bc}(b=0, c) = 0$, $a$ and $c$ are seen to be independent, as $p(a, c) = \\phi(a) \\phi(c)$."
   ]
  },
  {
   "cell_type": "markdown",
   "id": "adaptive-munich",
   "metadata": {},
   "source": [
    "<div class=\"alert alert-block alert-info\">\n",
    "<b>Task 3:</b> (12 points, bonus, 3 each).\n",
    "\n",
    "The restricted Boltzmann machine (or Harmonium, see [this Ref.](https://apps.dtic.mil/dtic/tr/fulltext/u2/a620727.pdf)) is a constrained Boltzmann machine on a bipartite graph, consisting of a layer of visible variables $\\mathbf{v} = (v_1, \\dots,v_V )$ and hidden variables $\\mathbf{h} = (h_1, \\dots ,h_H)$:\n",
    "\n",
    "    \n",
    "$$p(\\mathbf{v}, \\mathbf{h})= \\frac{1}{Z(\\mathbf{W}, \\mathbf{a}, \\mathbf{b})} \\exp(\\mathbf{v}^\\intercal \\mathbf{W} \\mathbf{h} + \\mathbf{a}^\\intercal \\mathbf{v} + \\mathbf{b}^\\intercal \\mathbf{h}) \\ .$$\n",
    "\n",
    "All variables are binary taking states $0, 1$.\n",
    "\n",
    "(1) Show that the distribution of hidden units conditional on the visible units factorizes as\n",
    "\n",
    "$$p(\\mathbf{h} | \\mathbf{v}) = \\prod_{i} p(h_i | \\mathbf{v}) \\text{, with } p(h_i = 1 | \\mathbf{v}) = \\sigma(b_i + \\sum_j{W_{ji} v_j})$$\n",
    "\n",
    "where $\\sigma(x) = e^x/(1 + e^x)$.\n",
    "    \n",
    "(2) By symmetry arguments, write down the form of the conditional $p(\\mathbf{v} | \\mathbf{h})$.\n",
    "    \n",
    "(3) Is $p(\\mathbf{h}) = \\prod_i p(h_i)$?\n",
    "    \n",
    "(4) Can the partition function $Z(\\mathbf{W}, \\mathbf{a}, \\mathbf{b})$ be computed efficiently for the RBM?    \n",
    "\n",
    "</div>"
   ]
  },
  {
   "cell_type": "code",
   "execution_count": 3,
   "id": "medium-microphone",
   "metadata": {},
   "outputs": [
    {
     "data": {
      "text/html": [
       "<img src=\"https://gist.githubusercontent.com/junipertcy/b4cde5d9d6db4c7aa5a84ab3eec4a89d/raw/236fb46bc4f63232e4d2339bf49f4bf0e764cf8d/exercise_4.4.png\"/>"
      ],
      "text/plain": [
       "<IPython.core.display.Image object>"
      ]
     },
     "execution_count": 3,
     "metadata": {},
     "output_type": "execute_result"
    }
   ],
   "source": [
    "from IPython.display import Image\n",
    "Image(url=\"https://gist.githubusercontent.com/junipertcy/b4cde5d9d6db4c7aa5a84ab3eec4a89d/raw/236fb46bc4f63232e4d2339bf49f4bf0e764cf8d/exercise_4.4.png\")"
   ]
  },
  {
   "cell_type": "code",
   "execution_count": 4,
   "id": "intelligent-legend",
   "metadata": {},
   "outputs": [],
   "source": [
    "# Your answer to Task 3\n",
    "# Expected lines: 2 or 3 lines each, except (4), which would call for some arguments."
   ]
  },
  {
   "cell_type": "markdown",
   "id": "challenging-selling",
   "metadata": {},
   "source": [
    "<div class=\"alert alert-block alert-info\">\n",
    "<b>Task 4:</b> (10 points).\n",
    "    \n",
    "Consider the distribution\n",
    "    \n",
    "$$p(t_1, t_2, y_1, y_2, h) = p(y_1|y_2, t_1, t_2, h)p(y_2|t_2, h)p(t_1)p(t_2)p(h)$$\n",
    "\n",
    "    \n",
    "(1) Draw a belief network for this distribution.\n",
    "\n",
    "\n",
    "(2) Does the distribution\n",
    "    \n",
    "$$p(t_1, t_2, y_1, y_2) = \\sum_{h} p(y_1|y_2, t_1, t_2, h)p(y_2|t_2, h)p(t_1)p(t_2)p(h)$$\n",
    "    \n",
    "have a perfect map belief network?\n",
    "    \n",
    "(3) Show that for $p(t_1,t_2,y_1,y_2)$ as defined above $t_1 \\perp\\!\\!\\!\\perp y_2 \\mid \\varnothing$.\n",
    "    \n",
    "\n",
    "</div>"
   ]
  },
  {
   "cell_type": "code",
   "execution_count": 2,
   "id": "reliable-singapore",
   "metadata": {},
   "outputs": [],
   "source": [
    "# Your answer to Task 4\n",
    "# Expected lines:\n",
    "# (1) A graph\n",
    "# (2) If yay, prove it. If nay, explain.\n",
    "# (3) Depending on your approach; can be 1~2 lines."
   ]
  },
  {
   "cell_type": "markdown",
   "id": "american-missouri",
   "metadata": {},
   "source": [
    "##### 1.\n",
    "<img src=\"data:image/png;base64,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\"/>"
   ]
  },
  {
   "cell_type": "markdown",
   "id": "concerned-calcium",
   "metadata": {},
   "source": [
    "##### 2.\n",
    "If you convert the initial belief network into a Markov network by moralizing it, then marginalize over $h$, you are left with a 4-clique of $\\{ t_1, t_2, y_1, y_2 \\}$. This can't possibly contain the same independence assumptions as the distribution that sums over $h$. Therefore, it is **not possible** to have a perfect map belief network for it."
   ]
  },
  {
   "cell_type": "markdown",
   "id": "ceramic-minute",
   "metadata": {},
   "source": [
    "##### 3.\n",
    "<img src=\"data:image/png;base64,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\"/>\n",
    "\n",
    "The above graph is produced by the given distribution for $p(t_1, t_2, y_1, y_2)$. Every path from $t_{1}$ to $y_{2}$ must go through $y_{1}$, which is a collider that isn't in the conditioning set and has no descendants in the conditioning set. Therefore, all paths from $t_{1}$ to $y_{2}$ are blocked, so it is true that $t_1 \\perp\\!\\!\\!\\perp y_2 \\mid \\varnothing$."
   ]
  },
  {
   "cell_type": "markdown",
   "id": "faced-direction",
   "metadata": {},
   "source": [
    "<div class=\"alert alert-block alert-info\">\n",
    "<b>Task 5:</b> (10 points).\n",
    "\n",
    "Consider the distribution\n",
    "    \n",
    "$$p(a, b, c, d) = \\phi_{ab}(a, b) \\phi_{bc}(b, c) \\phi_{cd}(c, d) \\phi_{da}(d, a)$$    \n",
    "    \n",
    "where the $\\phi$ are potentials.\n",
    "\n",
    "\n",
    "(1) Draw a Markov network for this distribution.\n",
    "\n",
    "\n",
    "(2) Explain if the distribution can be represented as a (\"non-complete\") belief network.\n",
    "\n",
    "\n",
    "(3) Derive explicitly if $a \\perp\\!\\!\\!\\perp c \\mid \\varnothing$.\n",
    "\n",
    "\n",
    "</div>"
   ]
  },
  {
   "cell_type": "code",
   "execution_count": null,
   "id": "medical-fraud",
   "metadata": {},
   "outputs": [],
   "source": [
    "# Your answer to Task 5\n",
    "# Expected lines:\n",
    "# (1) A graph\n",
    "# (2) 5~6 lines.\n",
    "# (3) 1~2 lines."
   ]
  },
  {
   "cell_type": "markdown",
   "id": "human-bouquet",
   "metadata": {},
   "source": [
    "##### 1.\n",
    "<img src=\"data:image/png;base64,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\"/>"
   ]
  },
  {
   "cell_type": "markdown",
   "id": "enormous-ratio",
   "metadata": {},
   "source": [
    "##### 2.\n",
    "If we try to create the directed edges necessary for the proper independence assumptions ($a \\perp\\!\\!\\!\\perp c \\mid b, d$ and $b \\perp\\!\\!\\!\\perp d \\mid a, c$), we will get a cyclic graph (which is disallowed in belief networks) and if we try to create a DAG (which a belief network must be), we will get colliders (which break the independence assumptions). Therefore, there is no way that the given distribution can be represent as a (\"non-complete\") belief network."
   ]
  },
  {
   "cell_type": "markdown",
   "id": "useful-silly",
   "metadata": {},
   "source": [
    "##### 3.\n",
    "$a$ and $c$ are separated by $\\{ b, d \\}$, so unless we condition on $\\{ b, d \\}$, $a$ and $c$ are dependent. Therefore, it is false that $a \\perp\\!\\!\\!\\perp c \\mid \\varnothing$. "
   ]
  },
  {
   "cell_type": "markdown",
   "id": "colonial-morning",
   "metadata": {},
   "source": [
    "<div class=\"alert alert-block alert-info\">\n",
    "<b>Task 6:</b> (10 points).\n",
    "    \n",
    "Show how for any singly-connected Markov network, one may construct a Markov equivalent belief network.\n",
    "\n",
    "\n",
    "</div>"
   ]
  },
  {
   "cell_type": "code",
   "execution_count": null,
   "id": "internal-chicago",
   "metadata": {},
   "outputs": [],
   "source": [
    "# Your answer to Task 6 (Expected lines: 1~2)"
   ]
  },
  {
   "cell_type": "markdown",
   "id": "front-management",
   "metadata": {},
   "source": [
    "In order to construct a Markov-equivalent belief network for a given singly-connected Markov network, we will start at a node that has only one neighbor (if you look at the given Markov network as a tree, we will start at one of the leaf nodes). From that starting node, we will draw directed edges pointing away from the parent node along every single edge, gradually increasing the distance from the starting node (the iteration through the nodes would look similar to a depth-first or breadth-first search). This will allow there to be zero colliders in the resultant belief network, which would preserve all conditional independence statements (two nodes would be dependent unless conditioned on the separator set that existed in the given Markov network)."
   ]
  },
  {
   "cell_type": "markdown",
   "id": "accurate-belarus",
   "metadata": {},
   "source": [
    "<div class=\"alert alert-block alert-info\">\n",
    "<b>Task 7 and 8:</b> (50 points, 30 for Task 7).\n",
    "\n",
    "Please refer to Part I and Part II of Mozer's [Assignment 4](https://home.cs.colorado.edu/~mozer/Teaching/syllabi/ProbabilisticModels/homework/assignment4.html) for our Task 7 and 8, respectively.\n",
    "\n",
    "    \n",
    "You can prepare your answers down here, or write in another sheet. Just remember to gather it along with your submission.\n",
    "</div>"
   ]
  },
  {
   "cell_type": "markdown",
   "id": "potential-nothing",
   "metadata": {},
   "source": [
    "<div class=\"alert alert-block alert-warning\">\n",
    "<b>Hint</b>.\n",
    "\n",
    "* [Polytree](https://en.wikipedia.org/wiki/Polytree) on Wikipedia.\n",
    "\n",
    "</div>"
   ]
  },
  {
   "cell_type": "markdown",
   "id": "auburn-jaguar",
   "metadata": {},
   "source": [
    "##### Task 7 (Mozer part 1)"
   ]
  },
  {
   "cell_type": "markdown",
   "id": "sorted-democrat",
   "metadata": {},
   "source": [
    "##### 1.\n",
    "The Markov blanket of Sneeze is {Cold, Light, Take Medicine, Runny Nose} (every other node), as Cold and Light are its parents, Take Medicine is its child, and Runny Nose is its co-parent.\n",
    "\n",
    "##### 2.\n",
    "The Markov blanket of Take Medicine is {Runny Nose, Sneeze}, as Runny Nose and Sneeze are its parents.\n",
    "\n",
    "##### 3.\n",
    "$P(L, C, RN, S, TM) = P(TM | RN, S) P(RN | C) P(C) P(S | C, L) P(L)$\n",
    "\n",
    "##### 4.\n",
    "$\\begin{align*}\n",
    "P(C=1 | TM=1, RN=0, L=0) &= \\frac{P(C=1, TM=1, RN=0, L=0)}{P(TM=1, RN=0, L=0)} \\\\\n",
    "&= \\frac{\\sum\\limits_{S} P(S, C=1, TM=1, RN=0, L=0)}{\\sum\\limits_{S, C} P(S, C, TM=1, RN=0, L=0)} \\\\\n",
    "&= \\frac{\\sum\\limits_{S} P(TM=1 | RN=0, S) P(RN=0 | C=1) P(C=1) P(S | C=1, L=0) P(L=0)}{\\sum\\limits_{S, C} P(TM=1 | RN=0, S) P(RN=0 | C) P(C) P(S | C, L=0) P(L=0)} \\\\\n",
    "&= \\frac{P(RN=0 | C=1) P(C=1) P(L=0) \\sum\\limits_{S} P(TM=1 | RN=0, S)  P(S | C=1, L=0) }{P(L=0) \\sum\\limits_{S, C} P(TM=1 | RN=0, S) P(RN=0 | C) P(C) P(S | C, L=0)} \\\\\n",
    "&= \\frac{P(RN=0 | C=1) P(C=1) \\sum\\limits_{S} P(TM=1 | RN=0, S)  P(S | C=1, L=0) }{\\sum\\limits_{S, C} P(TM=1 | RN=0, S) P(RN=0 | C) P(C) P(S | C, L=0)} \\\\\n",
    "& \\approx .22785\n",
    "\\end{align*}$\n",
    "\n",
    "##### 5.\n",
    "![alt text](Task7_part5_graph.PNG \"Title\")\n",
    "<img src=\"data:image/png;base64,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\"/>\n",
    "\n",
    "##### 6.\n",
    "![alt text](Task7_part6_graph.PNG \"Title\")\n",
    "\n",
    "##### 7.\n",
    "$P(L, C, RN, S, TM) = \\frac{1}{Z} \\underbrace{\\phi_1(C, L, S)}_\\text{$P(S| C, L) P(C) P(L)$} \\underbrace{\\phi_2(C, S, RN)}_\\text{$P(RN | C)$} \\underbrace{\\phi_3(RN, S, TM)}_\\text{$P(TM | RN, S)$}$\n",
    "\n",
    "##### 8.\n",
    "No, the given Bayes net is not a polytree, as the underlying undirected graph is not singly-connected (and is thus not a tree). In order to make it a polytree, we would need to remove $RN \\xrightarrow{} TM$, $S \\xrightarrow{} TM$, $C \\xrightarrow{} RN$, or $C \\xrightarrow{} S$.\n",
    "\n",
    "##### 9.\n",
    "###### a.\n",
    "Every path from $C$ to $TM$ is blocked (non-colliders that are in the conditioning set), so the given statement is **true**.\n",
    "\n",
    "###### b.\n",
    "Not every path from $TM$ to $C$ is blocked (non-collider that isn't in the conditioning set), so the given statement is **false**.\n",
    "\n",
    "###### c.\n",
    "Every path from $C$ to $L$ is blocked (colliders that are not in the conditioning set, nor are any of their descendants), so the given statement is **true**.\n",
    "\n",
    "###### d.\n",
    "Not every path from $C$ to $L$ is blocked (collider that is in the conditioning set, as well as collider whose descendant is in the conditioning set), so the given statement is **false**.\n",
    "\n",
    "###### e.\n",
    "Not every path from $RN$ to $L$ is blocked (collider that is in the conditioning set, as well as collider whose descendant is in the conditioning set), so the given statement is **false**.\n",
    "\n",
    "###### f.\n",
    "Every path from $RN$ to $L$ is blocked (colliders that are not in the conditioning set, nor are any of their descendants), so the given statement is **true**.\n",
    "\n",
    "###### g.\n",
    "Not every path from $RN$ to $L$ is blocked (collider that is in the conditioning set), so the given statement is **false**.\n",
    "\n",
    "###### h.\n",
    "Every path from $RN$ to $L$ is blocked (non-collider that is in the conditioning set, as well as collider that isn't in the conditioning set), so the given statement is **true**."
   ]
  },
  {
   "cell_type": "markdown",
   "id": "legendary-nylon",
   "metadata": {},
   "source": [
    "##### Task 8 (Mozer part 2)"
   ]
  },
  {
   "cell_type": "markdown",
   "id": "romance-worcester",
   "metadata": {},
   "source": [
    "##### 1.\n",
    "$P(A, D, U, H, P) = P(H|P) P(P) P(U|P,D) P(D) P(A|U)$\n",
    "\n",
    "##### 2.\n",
    "$\\begin{align*}\n",
    "P(H) &= \\sum\\limits_{A, D, U, P} P(A, D, U, H, P) \\\\\n",
    "&= \\sum\\limits_{A, D, U, P} P(H|P) P(P) P(U|P,D) P(D) P(A|U) \\\\\n",
    "&= \\sum\\limits_{P} P(H|P) P(P) \\sum\\limits_{D} P(D) \\sum\\limits_{U} P(U|P,D) \\sum\\limits_{A} P(A|U)\n",
    "\\end{align*}$\n",
    "\n",
    "##### 3.\n",
    "$\\begin{align*}\n",
    "P(U=u | D=d) &= \\frac{P(U=u, D=d)}{P(D=d)} \\\\\n",
    "&= \\frac{\\sum\\limits_{A, H, P} P(A, D=d, U=u, H, P)}{\\sum\\limits_{A, U, H, P} P(A, D=d, U, H, P)} \\\\\n",
    "&= \\frac{\\sum\\limits_{A, H, P} P(H|P) P(P) P(U=u|P,D=d) P(D=d) P(A|U=u)}{\\sum\\limits_{A, U, H, P} P(H|P) P(P) P(U|P,D=d) P(D=d) P(A|U)} \\\\\n",
    "&= \\frac{\\overbrace{P(D=d)}^\\text{cancels} \\sum\\limits_{P} P(P) P(U=u|P,D=d) \\sum\\limits_{H} P(H|P) \\overbrace{\\sum\\limits_{A} P(A|U=u)}^\\text{=1}} {\\underbrace{P(D=d)}_\\text{cancels} \\sum\\limits_{P} P(P) \\sum\\limits_{H} P(H|P) \\sum\\limits_{U} P(U|P,D=d) \\sum\\limits_{A} P(A|U)} \\\\\n",
    "&= \\frac{\\sum\\limits_{P} P(P) P(U=u|P,D=d) \\sum\\limits_{H} P(H|P)} {\\sum\\limits_{P} P(P) \\sum\\limits_{H} P(H|P) \\sum\\limits_{U} P(U|P,D=d) \\sum\\limits_{A} P(A|U)} \\\\\n",
    "\\end{align*}$"
   ]
  }
 ],
 "metadata": {
  "kernelspec": {
   "display_name": "Python 3",
   "language": "python",
   "name": "python3"
  },
  "language_info": {
   "codemirror_mode": {
    "name": "ipython",
    "version": 3
   },
   "file_extension": ".py",
   "mimetype": "text/x-python",
   "name": "python",
   "nbconvert_exporter": "python",
   "pygments_lexer": "ipython3",
   "version": "3.8.2"
  }
 },
 "nbformat": 4,
 "nbformat_minor": 5
}
