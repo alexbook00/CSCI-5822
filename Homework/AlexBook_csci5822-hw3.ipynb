{
 "cells": [
  {
   "cell_type": "markdown",
   "id": "sunrise-store",
   "metadata": {},
   "source": [
    "# CSCI 5822 Assignment 3\n",
    "\n",
    "\n",
    "<div class=\"alert alert-block alert-danger\">\n",
    "    \n",
    "<b>Assigned:</b> Feb 26, 2021.\n",
    "\n",
    "<b>Due:</b> Mar 12 (11:59pm, MST), on Canvas.\n",
    "\n",
    "<b>Update:</b> You can submit either PDF or HTML file. If you prefer not to use LaTeX, it's fine too. Just make sure that your answers are displayed clearly and only submit one file.\n",
    "    \n",
    "<b>Note:</b> Tasks 1-6 are about Chapter 4 in the book, whereas Tasks 7 and 8 are for Chapter 5.\n",
    "    \n",
    "</div>\n",
    "\n",
    "\n",
    "\n",
    "\n",
    "Do not forget to edit your name here.\n",
    "\n",
    "<div class=\"alert alert-block alert-success\">\n",
    "\n",
    "<b>Name:</b> Alex Book\n",
    "    \n",
    "<b>Collaborated With:</b> Cole Sturza\n",
    "\n",
    "</div>\n",
    "\n",
    "The collaboration/anti-plagiarism policy for this course can be found in the syllabus statements.\n",
    "\n",
    "The questions  provided  below will ask you to either write code or \n",
    "write answers in the form of markdown. Markdown syntax guide is here: [click here](https://www.markdownguide.org/basic-syntax/). \n",
    "\n",
    "----\n",
    "\n",
    "We will follow the following grading rubrics.\n",
    "+ 10: correct answer, work is shown and clear\n",
    "+ 8: correct answer but work might be difficult to read\n",
    "+ 6: incorrect answer but good attempt\n",
    "+ 4: mediocre attempt or very difficult to read\n",
    "+ 2: problem is written down, no attempt to solve\n",
    "+ 0: problem is not written down\n",
    "\n",
    "\n",
    "__Double click anywhere on this box to find out how your instructor typeset it. Press Shift+Enter to go back.__\n"
   ]
  },
  {
   "cell_type": "markdown",
   "id": "motivated-wells",
   "metadata": {},
   "source": [
    "<div class=\"alert alert-block alert-info\">\n",
    "<b>Task 1:</b> (10 points, 5 each).\n",
    "\n",
    "(1) Consider the pairwise Markov network,\n",
    "    \n",
    "$$p(x) = \\phi(x_1, x_2) \\phi(x_2, x_3) \\phi(x_3, x_4) \\phi(x_4, x_1)$$\n",
    "    \n",
    "Express in terms of $\\phi$ the following:\n",
    "    \n",
    "$$p(x_1|x_2, x_4),\\  p(x_2|x_1, x_3),\\  p(x_3|x_2, x_4),\\  p(x_4|x_1, x_3) \\ .$$\n",
    "    \n",
    "(2) For a set of local distributions defined as\n",
    "    \n",
    "$$ p_1(x_1|x_2, x_4),\\  p_2(x_2|x_1, x_3),\\  p_3(x_3|x_2, x_4),\\  p_4(x_4|x_1, x_3) \\ ,$$\n",
    "    \n",
    "is it always possible to find a joint distribution $p(x_1, x_2, x_3, x_4)$ consistent with these local conditional distributions?\n",
    "\n",
    "\n",
    "</div>"
   ]
  },
  {
   "cell_type": "code",
   "execution_count": null,
   "id": "useful-indiana",
   "metadata": {},
   "outputs": [],
   "source": [
    "# Your answer to Task 1\n",
    "# Expected lines:\n",
    "# (1) Four equalities\n",
    "# (2) If yay, prove it. If nay, find a counterexample and explain."
   ]
  },
  {
   "cell_type": "markdown",
   "id": "stock-exhibition",
   "metadata": {},
   "source": [
    "$\\begin{align*}\n",
    "P(x_1 | x_2, x_4) &= \\frac{p(x_1, x_2, x_4)}{p(x_2, x_4)} \\\\\n",
    "&= \\frac{\\sum\\limits_{x_3} p(x_1, x_2, x_3, x_4)}{\\sum\\limits_{x_1, x_3} p(x_1, x_2, x_3, x_4)} \\\\\n",
    "&= \\frac{\\sum\\limits_{x_3} \\phi(x_1, x_2) \\phi(x_2, x_3) \\phi(x_3, x_4) \\phi(x_4, x_1)}{\\sum\\limits_{x_1, x_3} \\phi(x_1, x_2) \\phi(x_2, x_3) \\phi(x_3, x_4) \\phi(x_4, x_1)}\n",
    "\\end{align*}$"
   ]
  },
  {
   "cell_type": "markdown",
   "id": "southwest-arena",
   "metadata": {},
   "source": [
    "Look at this link for part 2: https://www.google.com/search?q=bayes+net+dag&rlz=1C1CHBF_enUS868US868&oq=bayes+net+dag&aqs=chrome..69i57j0i22i30.3105j0j1&sourceid=chrome&ie=UTF-8\n",
    "\n",
    "Can't be cyclic (must be DAG)"
   ]
  },
  {
   "cell_type": "markdown",
   "id": "thorough-information",
   "metadata": {},
   "source": [
    "<div class=\"alert alert-block alert-info\">\n",
    "<b>Task 2:</b> (10 points).\n",
    "    \n",
    "Consider the Markov network\n",
    "    \n",
    "$$p(a, b, c) = \\phi_{ab}(a, b)\\phi_{bc}(b, c)$$\n",
    "    \n",
    "Nominally, by summing over $b$, the variables $a$ and $c$ are dependent. For binary $b$, explain a situation in which this is not the case, so that marginally, $a$ and $c$ are independent.\n",
    "\n",
    "</div>"
   ]
  },
  {
   "cell_type": "code",
   "execution_count": 2,
   "id": "together-december",
   "metadata": {},
   "outputs": [],
   "source": [
    "# Your answer to Task 2 (expected lines: 2~3)\n",
    "\n",
    "\n",
    "\n",
    "\n"
   ]
  },
  {
   "cell_type": "markdown",
   "id": "familiar-perth",
   "metadata": {},
   "source": [
    "<div class=\"alert alert-block alert-info\">\n",
    "<b>Task 3:</b> (12 points, bonus, 3 each).\n",
    "\n",
    "The restricted Boltzmann machine (or Harmonium, see [this Ref.](https://apps.dtic.mil/dtic/tr/fulltext/u2/a620727.pdf)) is a constrained Boltzmann machine on a bipartite graph, consisting of a layer of visible variables $\\mathbf{v} = (v_1, \\dots,v_V )$ and hidden variables $\\mathbf{h} = (h_1, \\dots ,h_H)$:\n",
    "\n",
    "    \n",
    "$$p(\\mathbf{v}, \\mathbf{h})= \\frac{1}{Z(\\mathbf{W}, \\mathbf{a}, \\mathbf{b})} \\exp(\\mathbf{v}^\\intercal \\mathbf{W} \\mathbf{h} + \\mathbf{a}^\\intercal \\mathbf{v} + \\mathbf{b}^\\intercal \\mathbf{h}) \\ .$$\n",
    "\n",
    "All variables are binary taking states $0, 1$.\n",
    "\n",
    "(1) Show that the distribution of hidden units conditional on the visible units factorizes as\n",
    "\n",
    "$$p(\\mathbf{h} | \\mathbf{v}) = \\prod_{i} p(h_i | \\mathbf{v}) \\text{, with } p(h_i = 1 | \\mathbf{v}) = \\sigma(b_i + \\sum_j{W_{ji} v_j})$$\n",
    "\n",
    "where $\\sigma(x) = e^x/(1 + e^x)$.\n",
    "    \n",
    "(2) By symmetry arguments, write down the form of the conditional $p(\\mathbf{v} | \\mathbf{h})$.\n",
    "    \n",
    "(3) Is $p(\\mathbf{h}) = \\prod_i p(h_i)$?\n",
    "    \n",
    "(4) Can the partition function $Z(\\mathbf{W}, \\mathbf{a}, \\mathbf{b})$ be computed efficiently for the RBM?    \n",
    "\n",
    "</div>"
   ]
  },
  {
   "cell_type": "code",
   "execution_count": 3,
   "id": "powered-tsunami",
   "metadata": {},
   "outputs": [
    {
     "data": {
      "text/html": [
       "<img src=\"https://gist.githubusercontent.com/junipertcy/b4cde5d9d6db4c7aa5a84ab3eec4a89d/raw/236fb46bc4f63232e4d2339bf49f4bf0e764cf8d/exercise_4.4.png\"/>"
      ],
      "text/plain": [
       "<IPython.core.display.Image object>"
      ]
     },
     "execution_count": 3,
     "metadata": {},
     "output_type": "execute_result"
    }
   ],
   "source": [
    "from IPython.display import Image\n",
    "Image(url=\"https://gist.githubusercontent.com/junipertcy/b4cde5d9d6db4c7aa5a84ab3eec4a89d/raw/236fb46bc4f63232e4d2339bf49f4bf0e764cf8d/exercise_4.4.png\")"
   ]
  },
  {
   "cell_type": "code",
   "execution_count": 4,
   "id": "mineral-litigation",
   "metadata": {},
   "outputs": [],
   "source": [
    "# Your answer to Task 3\n",
    "# Expected lines: 2 or 3 lines each, except (4), which would call for some arguments.\n",
    "\n",
    "\n",
    "\n"
   ]
  },
  {
   "cell_type": "markdown",
   "id": "charged-relaxation",
   "metadata": {},
   "source": [
    "<div class=\"alert alert-block alert-info\">\n",
    "<b>Task 4:</b> (10 points).\n",
    "    \n",
    "Consider the distribution\n",
    "    \n",
    "$$p(t_1, t_2, y_1, y_2, h) = p(y_1|y_2, t_1, t_2, h)p(y_2|t_2, h)p(t_1)p(t_2)p(h)$$\n",
    "\n",
    "    \n",
    "(1) Draw a belief network for this distribution.\n",
    "\n",
    "\n",
    "(2) Does the distribution\n",
    "    \n",
    "$$p(t_1, t_2, y_1, y_2) = \\sum_{h} p(y_1|y_2, t_1, t_2, h)p(y_2|t_2, h)p(t_1)p(t_2)p(h)$$\n",
    "    \n",
    "have a perfect map belief network?\n",
    "    \n",
    "(3) Show that for $p(t_1,t_2,y_1,y_2)$ as defined above $t_1 \\perp\\!\\!\\!\\perp y_2 \\mid \\varnothing$.\n",
    "    \n",
    "\n",
    "</div>"
   ]
  },
  {
   "cell_type": "markdown",
   "id": "available-opinion",
   "metadata": {},
   "source": [
    "# Your answer to Task 4\n",
    "# Expected lines:\n",
    "# (1) A graph\n",
    "\n",
    "# (2) If yay, prove it. If nay, explain.\n",
    "ask about this tomorrow\n",
    "\n",
    "# (3) Depending on your approach; can be 1~2 lines.\n",
    "use path, colliders, conditioning set, all that jazz"
   ]
  },
  {
   "cell_type": "markdown",
   "id": "incorporate-visitor",
   "metadata": {},
   "source": [
    "![alt text](Task4_graph.PNG \"Title\")"
   ]
  },
  {
   "cell_type": "markdown",
   "id": "framed-sheffield",
   "metadata": {},
   "source": [
    "<div class=\"alert alert-block alert-info\">\n",
    "<b>Task 5:</b> (10 points).\n",
    "\n",
    "Consider the distribution\n",
    "    \n",
    "$$p(a, b, c, d) = \\phi_{ab}(a, b) \\phi_{bc}(b, c) \\phi_{cd}(c, d) \\phi_{da}(d, a)$$    \n",
    "    \n",
    "where the $\\phi$ are potentials.\n",
    "\n",
    "\n",
    "(1) Draw a Markov network for this distribution.\n",
    "\n",
    "\n",
    "(2) Explain if the distribution can be represented as a (\"non-complete\") belief network.\n",
    "\n",
    "\n",
    "(3) Derive explicitly if $a \\perp\\!\\!\\!\\perp c \\mid \\varnothing$.\n",
    "\n",
    "\n",
    "</div>"
   ]
  },
  {
   "cell_type": "markdown",
   "id": "atmospheric-floor",
   "metadata": {},
   "source": [
    "# Your answer to Task 5\n",
    "# Expected lines:\n",
    "# (1) A graph\n",
    "# (2) 5~6 lines.\n",
    "Non-complete belief network means it's a DAG. If we try to create the directed edges necessary for the independence assumptions ($a \\perp\\!\\!\\!\\perp c \\mid b, d$ and $b \\perp\\!\\!\\!\\perp d \\mid a, c$), we will get a cycle, and if we try to create a DAG, we will get colliders (which break the independence assumptions).\n",
    "# (3) 1~2 lines.\n",
    "a and c are separated by {b,d}, so unless we condition on {b, d}, a and c are dependent."
   ]
  },
  {
   "cell_type": "markdown",
   "id": "according-celtic",
   "metadata": {},
   "source": [
    "![alt text](Task5_graph.PNG \"Title\")"
   ]
  },
  {
   "cell_type": "markdown",
   "id": "electronic-means",
   "metadata": {},
   "source": [
    "<div class=\"alert alert-block alert-info\">\n",
    "<b>Task 6:</b> (10 points).\n",
    "    \n",
    "Show how for any singly-connected Markov network, one may construct a Markov equivalent belief network.\n",
    "\n",
    "\n",
    "</div>"
   ]
  },
  {
   "cell_type": "markdown",
   "id": "roman-accordance",
   "metadata": {},
   "source": [
    "# Your answer to Task 6 (Expected lines: 1~2)\n",
    "\n",
    "Start at a \"leaf node\" and draw arrows going away from it."
   ]
  },
  {
   "cell_type": "markdown",
   "id": "initial-victoria",
   "metadata": {},
   "source": [
    "<div class=\"alert alert-block alert-info\">\n",
    "<b>Task 7 and 8:</b> (50 points, 30 for Task 7).\n",
    "\n",
    "Please refer to Part I and Part II of Mozer's [Assignment 4](https://home.cs.colorado.edu/~mozer/Teaching/syllabi/ProbabilisticModels/homework/assignment4.html) for our Task 7 and 8, respectively.\n",
    "\n",
    "    \n",
    "You can prepare your answers down here, or write in another sheet. Just remember to gather it along with your submission.\n",
    "</div>"
   ]
  },
  {
   "cell_type": "markdown",
   "id": "grand-science",
   "metadata": {},
   "source": [
    "<div class=\"alert alert-block alert-warning\">\n",
    "<b>Hint</b>.\n",
    "\n",
    "* [Polytree](https://en.wikipedia.org/wiki/Polytree) on Wikipedia.\n",
    "\n",
    "</div>"
   ]
  },
  {
   "cell_type": "markdown",
   "id": "pacific-notebook",
   "metadata": {},
   "source": [
    "##### Task 7 (Mozer part 1)"
   ]
  },
  {
   "cell_type": "markdown",
   "id": "cognitive-ozone",
   "metadata": {},
   "source": [
    "##### 1.\n",
    "The Markov blanket of Sneeze is {Cold, Light, Take Medicine, Runny Nose} (every other node), as Cold and Light are its parents, Take Medicine is its child, and Runny Nose is its co-parent.\n",
    "\n",
    "##### 2.\n",
    "The Markov blanket of Take Medicine is {Runny Nose, Sneeze}, as Runny Nose and Sneeze are its parents.\n",
    "\n",
    "##### 3.\n",
    "$P(L, C, RN, S, TM) = P(TM | RN, S) P(RN | C) P(C) P(S | C, L) P(L)$\n",
    "\n",
    "##### 4.\n",
    "$\\begin{align*}\n",
    "P(C=1 | TM=1, RN=0, L=0) &= \\frac{P(C=1, TM=1, RN=0, L=0)}{P(TM=1, RN=0, L=0)} \\\\\n",
    "&= \\frac{\\sum\\limits_{S} P(S, C=1, TM=1, RN=0, L=0)}{\\sum\\limits_{S, C} P(S, C, TM=1, RN=0, L=0}\n",
    "\\end{align*}$"
   ]
  },
  {
   "cell_type": "markdown",
   "id": "split-present",
   "metadata": {},
   "source": [
    "##### Task 8 (Mozer part 2)"
   ]
  },
  {
   "cell_type": "markdown",
   "id": "velvet-livestock",
   "metadata": {},
   "source": [
    "1.\n",
    "\n",
    "$P(A, D, U, H, P) = P(H|P)P(P)P(U|P,D)P(D)P(A|U)$\n",
    "\n",
    "2.\n",
    "\n",
    "$\\begin{align*}\n",
    "P(H) &= \\sum\\limits_{A, D, U, P} P(H|P)P(P)P(U|P,D)P(D)P(A|U) \\\\\n",
    "&= \\sum\\limits_{P} P(H|P)P(P) \\sum\\limits_{D} P(D) \\sum\\limits_{U} P(U|P,D) \\sum\\limits_{A} P(A|U)\n",
    "\\end{align*}$\n",
    "\n",
    "3.\n",
    "\n",
    "Same as what we did in Task 1 part 1"
   ]
  }
 ],
 "metadata": {
  "kernelspec": {
   "display_name": "Python 3",
   "language": "python",
   "name": "python3"
  },
  "language_info": {
   "codemirror_mode": {
    "name": "ipython",
    "version": 3
   },
   "file_extension": ".py",
   "mimetype": "text/x-python",
   "name": "python",
   "nbconvert_exporter": "python",
   "pygments_lexer": "ipython3",
   "version": "3.8.2"
  }
 },
 "nbformat": 4,
 "nbformat_minor": 5
}
