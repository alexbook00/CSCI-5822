{
 "cells": [
  {
   "cell_type": "markdown",
   "id": "reflected-possession",
   "metadata": {},
   "source": [
    "# CSCI 5822 Assignment 3\n",
    "\n",
    "\n",
    "<div class=\"alert alert-block alert-danger\">\n",
    "    \n",
    "<b>Assigned:</b> Feb 26, 2021.\n",
    "\n",
    "<b>Due:</b> Mar 12 (11:59pm, MST), on Canvas.\n",
    "\n",
    "<b>Update:</b> You can submit either PDF or HTML file. If you prefer not to use LaTeX, it's fine too. Just make sure that your answers are displayed clearly and only submit one file.\n",
    "    \n",
    "<b>Note:</b> Tasks 1-6 are about Chapter 4 in the book, whereas Tasks 7 and 8 are for Chapter 5.\n",
    "    \n",
    "</div>\n",
    "\n",
    "\n",
    "\n",
    "\n",
    "Do not forget to edit your name here.\n",
    "\n",
    "<div class=\"alert alert-block alert-success\">\n",
    "\n",
    "<b>Name:</b> Alex Book\n",
    "    \n",
    "<b>Collaborated With:</b> Cole Sturza\n",
    "\n",
    "</div>\n",
    "\n",
    "The collaboration/anti-plagiarism policy for this course can be found in the syllabus statements.\n",
    "\n",
    "The questions  provided  below will ask you to either write code or \n",
    "write answers in the form of markdown. Markdown syntax guide is here: [click here](https://www.markdownguide.org/basic-syntax/). \n",
    "\n",
    "----\n",
    "\n",
    "We will follow the following grading rubrics.\n",
    "+ 10: correct answer, work is shown and clear\n",
    "+ 8: correct answer but work might be difficult to read\n",
    "+ 6: incorrect answer but good attempt\n",
    "+ 4: mediocre attempt or very difficult to read\n",
    "+ 2: problem is written down, no attempt to solve\n",
    "+ 0: problem is not written down\n",
    "\n",
    "\n",
    "__Double click anywhere on this box to find out how your instructor typeset it. Press Shift+Enter to go back.__\n"
   ]
  },
  {
   "cell_type": "markdown",
   "id": "assisted-stylus",
   "metadata": {},
   "source": [
    "<div class=\"alert alert-block alert-info\">\n",
    "<b>Task 1:</b> (10 points, 5 each).\n",
    "\n",
    "(1) Consider the pairwise Markov network,\n",
    "    \n",
    "$$p(x) = \\phi(x_1, x_2) \\phi(x_2, x_3) \\phi(x_3, x_4) \\phi(x_4, x_1)$$\n",
    "    \n",
    "Express in terms of $\\phi$ the following:\n",
    "    \n",
    "$$p(x_1|x_2, x_4),\\  p(x_2|x_1, x_3),\\  p(x_3|x_2, x_4),\\  p(x_4|x_1, x_3) \\ .$$\n",
    "    \n",
    "(2) For a set of local distributions defined as\n",
    "    \n",
    "$$ p_1(x_1|x_2, x_4),\\  p_2(x_2|x_1, x_3),\\  p_3(x_3|x_2, x_4),\\  p_4(x_4|x_1, x_3) \\ ,$$\n",
    "    \n",
    "is it always possible to find a joint distribution $p(x_1, x_2, x_3, x_4)$ consistent with these local conditional distributions?\n",
    "\n",
    "\n",
    "</div>"
   ]
  },
  {
   "cell_type": "code",
   "execution_count": null,
   "id": "physical-enterprise",
   "metadata": {},
   "outputs": [],
   "source": [
    "# Your answer to Task 1\n",
    "# Expected lines:\n",
    "# (1) Four equalities\n",
    "# (2) If yay, prove it. If nay, find a counterexample and explain."
   ]
  },
  {
   "cell_type": "markdown",
   "id": "anonymous-party",
   "metadata": {},
   "source": [
    "##### 1.\n",
    "$\\begin{align*}\n",
    "P(x_1 | x_2, x_4) &= \\frac{p(x_1, x_2, x_4)}{p(x_2, x_4)} \\\\\n",
    "&= \\frac{\\sum\\limits_{x_3} p(x_1, x_2, x_3, x_4)}{\\sum\\limits_{x_1, x_3} p(x_1, x_2, x_3, x_4)} \\\\\n",
    "&= \\frac{\\sum\\limits_{x_3} \\phi(x_1, x_2) \\phi(x_2, x_3) \\phi(x_3, x_4) \\phi(x_4, x_1)}{\\sum\\limits_{x_1, x_3} \\phi(x_1, x_2) \\phi(x_2, x_3) \\phi(x_3, x_4) \\phi(x_4, x_1)} \\\\\n",
    "&= \\frac{\\phi(x_1, x_2) \\phi(x_4, x_1) \\sum\\limits_{x_3} \\phi(x_2, x_3) \\phi(x_3, x_4) }{\\sum\\limits_{x_1} \\phi(x_1, x_2) \\phi(x_4, x_1) \\sum\\limits_{x_3}  \\phi(x_2, x_3) \\phi(x_3, x_4)} \\\\\n",
    "&= \\frac{\\phi(x_1, x_2) \\phi(x_4, x_1)}{\\sum\\limits_{x_1} \\phi(x_1, x_2) \\phi(x_4, x_1)}\n",
    "\\end{align*}$"
   ]
  },
  {
   "cell_type": "markdown",
   "id": "indian-incentive",
   "metadata": {},
   "source": [
    "$\\begin{align*}\n",
    "P(x_2 | x_1, x_3) &= \\frac{p(x_1, x_2, x_3)}{p(x_1, x_3)} \\\\\n",
    "&= \\frac{\\sum\\limits_{x_4} p(x_1, x_2, x_3, x_4)}{\\sum\\limits_{x_2, x_4} p(x_1, x_2, x_3, x_4)} \\\\\n",
    "&= \\frac{\\sum\\limits_{x_4} \\phi(x_1, x_2) \\phi(x_2, x_3) \\phi(x_3, x_4) \\phi(x_4, x_1)}{\\sum\\limits_{x_2, x_4} \\phi(x_1, x_2) \\phi(x_2, x_3) \\phi(x_3, x_4) \\phi(x_4, x_1)} \\\\\n",
    "&= \\frac{\\phi(x_1, x_2) \\phi(x_2, x_3) \\sum\\limits_{x_4} \\phi(x_3, x_4) \\phi(x_4, x_1)}{\\sum\\limits_{x_2} \\phi(x_1, x_2) \\phi(x_2, x_3) \\sum\\limits_{x_4} \\phi(x_3, x_4) \\phi(x_4, x_1)} \\\\\n",
    "&= \\frac{\\phi(x_1, x_2) \\phi(x_2, x_3)}{\\sum\\limits_{x_2} \\phi(x_1, x_2) \\phi(x_2, x_3)}\n",
    "\\end{align*}$"
   ]
  },
  {
   "cell_type": "markdown",
   "id": "swiss-problem",
   "metadata": {},
   "source": [
    "$\\begin{align*}\n",
    "P(x_3 | x_2, x_4) &= \\frac{p(x_2, x_3, x_4)}{p(x_2, x_4)} \\\\\n",
    "&= \\frac{\\sum\\limits_{x_1} p(x_1, x_2, x_3, x_4)}{\\sum\\limits_{x_1, x_3} p(x_1, x_2, x_3, x_4)} \\\\\n",
    "&= \\frac{\\sum\\limits_{x_1} \\phi(x_1, x_2) \\phi(x_2, x_3) \\phi(x_3, x_4) \\phi(x_4, x_1)}{\\sum\\limits_{x_1, x_3} \\phi(x_1, x_2) \\phi(x_2, x_3) \\phi(x_3, x_4) \\phi(x_4, x_1)} \\\\\n",
    "&= \\frac{\\phi(x_2, x_3) \\phi(x_3, x_4) \\sum\\limits_{x_1} \\phi(x_1, x_2) \\phi(x_4, x_1)}{\\sum\\limits_{x_3} \\phi(x_2, x_3) \\phi(x_3, x_4) \\sum\\limits_{x_1} \\phi(x_1, x_2) \\phi(x_4, x_1)} \\\\\n",
    "&= \\frac{\\phi(x_2, x_3) \\phi(x_3, x_4)}{\\sum\\limits_{x_3}  \\phi(x_2, x_3)\\phi(x_3, x_4)}\n",
    "\\end{align*}$"
   ]
  },
  {
   "cell_type": "markdown",
   "id": "center-somerset",
   "metadata": {},
   "source": [
    "$\\begin{align*}\n",
    "P(x_4 | x_1, x_3) &= \\frac{p(x_1, x_3, x_4)}{p(x_1, x_3)} \\\\\n",
    "&= \\frac{\\sum\\limits_{x_2} p(x_1, x_2, x_3, x_4)}{\\sum\\limits_{x_2, x_4} p(x_1, x_2, x_3, x_4)} \\\\\n",
    "&= \\frac{\\sum\\limits_{x_2} \\phi(x_1, x_2) \\phi(x_2, x_3) \\phi(x_3, x_4) \\phi(x_4, x_1)}{\\sum\\limits_{x_2, x_4} \\phi(x_1, x_2) \\phi(x_2, x_3) \\phi(x_3, x_4) \\phi(x_4, x_1)} \\\\\n",
    "&= \\frac{\\phi(x_3, x_4) \\phi(x_4, x_1) \\sum\\limits_{x_2} \\phi(x_1, x_2) \\phi(x_2, x_3)}{\\sum\\limits_{x_4} \\phi(x_3, x_4) \\phi(x_4, x_1) \\sum\\limits_{x_2} \\phi(x_1, x_2) \\phi(x_2, x_3)} \\\\\n",
    "&= \\frac{\\phi(x_3, x_4) \\phi(x_4, x_1)}{\\sum\\limits_{x_4} \\phi(x_3, x_4) \\phi(x_4, x_1)}\n",
    "\\end{align*}$"
   ]
  },
  {
   "cell_type": "markdown",
   "id": "recovered-survivor",
   "metadata": {},
   "source": [
    "##### 2.\n",
    "<img src=\"data:image/png;base64,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\"/>"
   ]
  },
  {
   "cell_type": "markdown",
   "id": "married-pleasure",
   "metadata": {},
   "source": [
    "The above graph is formed by the given local distributions. It is cyclic, which is disallowed in belief networks (a belief network must be a DAG). Therefore, it is not possible to find a joint distribution $p(x_1, x_2, x_3, x_4)$ that is consistent with the given local distributions."
   ]
  },
  {
   "cell_type": "markdown",
   "id": "annoying-short",
   "metadata": {},
   "source": [
    "<div class=\"alert alert-block alert-info\">\n",
    "<b>Task 2:</b> (10 points).\n",
    "    \n",
    "Consider the Markov network\n",
    "    \n",
    "$$p(a, b, c) = \\phi_{ab}(a, b)\\phi_{bc}(b, c)$$\n",
    "    \n",
    "Nominally, by summing over $b$, the variables $a$ and $c$ are dependent. For binary $b$, explain a situation in which this is not the case, so that marginally, $a$ and $c$ are independent.\n",
    "\n",
    "</div>"
   ]
  },
  {
   "cell_type": "code",
   "execution_count": 2,
   "id": "drawn-antigua",
   "metadata": {},
   "outputs": [],
   "source": [
    "# Your answer to Task 2 (expected lines: 2~3)"
   ]
  },
  {
   "cell_type": "markdown",
   "id": "swedish-galaxy",
   "metadata": {},
   "source": [
    "$\n",
    "\\begin{aligned}\n",
    "p(a, c) &= \\sum\\limits_{b} \\phi_{ab}(a, b)\\phi_{bc}(b, c) \\\\\n",
    "&= \\phi_{ab}(a, b=0) \\underbrace{\\phi_{bc}(b=0, c)}_\\text{set this to equal 0} + \\phi_{ab}(a, b=1) \\phi_{bc}(b=1, c) \\\\\n",
    "&= \\underbrace{\\phi_{ab}(a, b=1) \\phi_{bc}(b=1, c)}_\\text{$b$ is a constant here, so this factors to $\\phi(a) \\phi(c)$}\\\\\n",
    "&= \\phi(a) \\phi(c) \\\\\n",
    "\\end{aligned}\n",
    "$\n",
    "\n",
    "So, in such a situation, where $\\phi_{bc}(b=0, c) = 0$, $a$ and $c$ are seen to be independent, as $p(a, c) = \\phi(a) \\phi(c)$."
   ]
  },
  {
   "cell_type": "markdown",
   "id": "closing-sunrise",
   "metadata": {},
   "source": [
    "<div class=\"alert alert-block alert-info\">\n",
    "<b>Task 3:</b> (12 points, bonus, 3 each).\n",
    "\n",
    "The restricted Boltzmann machine (or Harmonium, see [this Ref.](https://apps.dtic.mil/dtic/tr/fulltext/u2/a620727.pdf)) is a constrained Boltzmann machine on a bipartite graph, consisting of a layer of visible variables $\\mathbf{v} = (v_1, \\dots,v_V )$ and hidden variables $\\mathbf{h} = (h_1, \\dots ,h_H)$:\n",
    "\n",
    "    \n",
    "$$p(\\mathbf{v}, \\mathbf{h})= \\frac{1}{Z(\\mathbf{W}, \\mathbf{a}, \\mathbf{b})} \\exp(\\mathbf{v}^\\intercal \\mathbf{W} \\mathbf{h} + \\mathbf{a}^\\intercal \\mathbf{v} + \\mathbf{b}^\\intercal \\mathbf{h}) \\ .$$\n",
    "\n",
    "All variables are binary taking states $0, 1$.\n",
    "\n",
    "(1) Show that the distribution of hidden units conditional on the visible units factorizes as\n",
    "\n",
    "$$p(\\mathbf{h} | \\mathbf{v}) = \\prod_{i} p(h_i | \\mathbf{v}) \\text{, with } p(h_i = 1 | \\mathbf{v}) = \\sigma(b_i + \\sum_j{W_{ji} v_j})$$\n",
    "\n",
    "where $\\sigma(x) = e^x/(1 + e^x)$.\n",
    "    \n",
    "(2) By symmetry arguments, write down the form of the conditional $p(\\mathbf{v} | \\mathbf{h})$.\n",
    "    \n",
    "(3) Is $p(\\mathbf{h}) = \\prod_i p(h_i)$?\n",
    "    \n",
    "(4) Can the partition function $Z(\\mathbf{W}, \\mathbf{a}, \\mathbf{b})$ be computed efficiently for the RBM?    \n",
    "\n",
    "</div>"
   ]
  },
  {
   "cell_type": "code",
   "execution_count": 3,
   "id": "nominated-apartment",
   "metadata": {},
   "outputs": [
    {
     "data": {
      "text/html": [
       "<img src=\"https://gist.githubusercontent.com/junipertcy/b4cde5d9d6db4c7aa5a84ab3eec4a89d/raw/236fb46bc4f63232e4d2339bf49f4bf0e764cf8d/exercise_4.4.png\"/>"
      ],
      "text/plain": [
       "<IPython.core.display.Image object>"
      ]
     },
     "execution_count": 3,
     "metadata": {},
     "output_type": "execute_result"
    }
   ],
   "source": [
    "from IPython.display import Image\n",
    "Image(url=\"https://gist.githubusercontent.com/junipertcy/b4cde5d9d6db4c7aa5a84ab3eec4a89d/raw/236fb46bc4f63232e4d2339bf49f4bf0e764cf8d/exercise_4.4.png\")"
   ]
  },
  {
   "cell_type": "code",
   "execution_count": 4,
   "id": "vertical-uniform",
   "metadata": {},
   "outputs": [],
   "source": [
    "# Your answer to Task 3\n",
    "# Expected lines: 2 or 3 lines each, except (4), which would call for some arguments."
   ]
  },
  {
   "cell_type": "markdown",
   "id": "accessible-architect",
   "metadata": {},
   "source": [
    "<div class=\"alert alert-block alert-info\">\n",
    "<b>Task 4:</b> (10 points).\n",
    "    \n",
    "Consider the distribution\n",
    "    \n",
    "$$p(t_1, t_2, y_1, y_2, h) = p(y_1|y_2, t_1, t_2, h)p(y_2|t_2, h)p(t_1)p(t_2)p(h)$$\n",
    "\n",
    "    \n",
    "(1) Draw a belief network for this distribution.\n",
    "\n",
    "\n",
    "(2) Does the distribution\n",
    "    \n",
    "$$p(t_1, t_2, y_1, y_2) = \\sum_{h} p(y_1|y_2, t_1, t_2, h)p(y_2|t_2, h)p(t_1)p(t_2)p(h)$$\n",
    "    \n",
    "have a perfect map belief network?\n",
    "    \n",
    "(3) Show that for $p(t_1,t_2,y_1,y_2)$ as defined above $t_1 \\perp\\!\\!\\!\\perp y_2 \\mid \\varnothing$.\n",
    "    \n",
    "\n",
    "</div>"
   ]
  },
  {
   "cell_type": "code",
   "execution_count": 2,
   "id": "favorite-pitch",
   "metadata": {},
   "outputs": [],
   "source": [
    "# Your answer to Task 4\n",
    "# Expected lines:\n",
    "# (1) A graph\n",
    "# (2) If yay, prove it. If nay, explain.\n",
    "# (3) Depending on your approach; can be 1~2 lines."
   ]
  },
  {
   "cell_type": "markdown",
   "id": "settled-classification",
   "metadata": {},
   "source": [
    "##### 1.\n",
    "<img src=\"data:image/png;base64,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\"/>"
   ]
  },
  {
   "cell_type": "markdown",
   "id": "final-musical",
   "metadata": {},
   "source": [
    "##### 2.\n",
    "If you convert the initial belief network into a Markov network by moralizing it, then marginalize over $h$, you are left with a 4-clique of $\\{ t_1, t_2, y_1, y_2 \\}$. This can't possibly contain the same independence assumptions as the distribution that sums over $h$. Therefore, it is **not possible** to have a perfect map belief network for it."
   ]
  },
  {
   "cell_type": "markdown",
   "id": "elementary-protest",
   "metadata": {},
   "source": [
    "##### 3.\n",
    "<img src=\"data:image/png;base64,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\"/>\n",
    "\n",
    "The above graph is produced by the given distribution for $p(t_1, t_2, y_1, y_2)$. Every path from $t_{1}$ to $y_{2}$ must go through $y_{1}$, which is a collider that isn't in the conditioning set and has no descendants in the conditioning set. Therefore, all paths from $t_{1}$ to $y_{2}$ are blocked, so it is true that $t_1 \\perp\\!\\!\\!\\perp y_2 \\mid \\varnothing$."
   ]
  },
  {
   "cell_type": "markdown",
   "id": "stunning-fountain",
   "metadata": {},
   "source": [
    "<div class=\"alert alert-block alert-info\">\n",
    "<b>Task 5:</b> (10 points).\n",
    "\n",
    "Consider the distribution\n",
    "    \n",
    "$$p(a, b, c, d) = \\phi_{ab}(a, b) \\phi_{bc}(b, c) \\phi_{cd}(c, d) \\phi_{da}(d, a)$$    \n",
    "    \n",
    "where the $\\phi$ are potentials.\n",
    "\n",
    "\n",
    "(1) Draw a Markov network for this distribution.\n",
    "\n",
    "\n",
    "(2) Explain if the distribution can be represented as a (\"non-complete\") belief network.\n",
    "\n",
    "\n",
    "(3) Derive explicitly if $a \\perp\\!\\!\\!\\perp c \\mid \\varnothing$.\n",
    "\n",
    "\n",
    "</div>"
   ]
  },
  {
   "cell_type": "code",
   "execution_count": null,
   "id": "verified-implementation",
   "metadata": {},
   "outputs": [],
   "source": [
    "# Your answer to Task 5\n",
    "# Expected lines:\n",
    "# (1) A graph\n",
    "# (2) 5~6 lines.\n",
    "# (3) 1~2 lines."
   ]
  },
  {
   "cell_type": "markdown",
   "id": "institutional-startup",
   "metadata": {},
   "source": [
    "##### 1.\n",
    "<img src=\"data:image/png;base64,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\"/>"
   ]
  },
  {
   "cell_type": "markdown",
   "id": "ultimate-fiber",
   "metadata": {},
   "source": [
    "##### 2.\n",
    "If we try to create the directed edges necessary for the proper independence assumptions ($a \\perp\\!\\!\\!\\perp c \\mid b, d$ and $b \\perp\\!\\!\\!\\perp d \\mid a, c$), we will get a cyclic graph (which is disallowed in belief networks) and if we try to create a DAG (which a belief network must be), we will get colliders (which break the independence assumptions). Therefore, there is no way that the given distribution can be represent as a (\"non-complete\") belief network."
   ]
  },
  {
   "cell_type": "markdown",
   "id": "exotic-hollywood",
   "metadata": {},
   "source": [
    "##### 3.\n",
    "$a$ and $c$ are separated by $\\{ b, d \\}$, so unless we condition on $\\{ b, d \\}$, $a$ and $c$ are dependent. Therefore, it is false that $a \\perp\\!\\!\\!\\perp c \\mid \\varnothing$. "
   ]
  },
  {
   "cell_type": "markdown",
   "id": "ultimate-meditation",
   "metadata": {},
   "source": [
    "<div class=\"alert alert-block alert-info\">\n",
    "<b>Task 6:</b> (10 points).\n",
    "    \n",
    "Show how for any singly-connected Markov network, one may construct a Markov equivalent belief network.\n",
    "\n",
    "\n",
    "</div>"
   ]
  },
  {
   "cell_type": "code",
   "execution_count": null,
   "id": "fossil-development",
   "metadata": {},
   "outputs": [],
   "source": [
    "# Your answer to Task 6 (Expected lines: 1~2)"
   ]
  },
  {
   "cell_type": "markdown",
   "id": "original-basketball",
   "metadata": {},
   "source": [
    "In order to construct a Markov-equivalent belief network for a given singly-connected Markov network, we will start at a node that has only one neighbor (if you look at the given Markov network as a tree, we will start at one of the leaf nodes). From that starting node, we will draw directed edges pointing away from the parent node along every single edge, gradually increasing the distance from the starting node (the iteration through the nodes would look similar to a depth-first or breadth-first search). This will allow there to be zero colliders in the resultant belief network, which would preserve all conditional independence statements (two nodes would be dependent unless conditioned on the separator set that existed in the given Markov network)."
   ]
  },
  {
   "cell_type": "markdown",
   "id": "muslim-hardware",
   "metadata": {},
   "source": [
    "<div class=\"alert alert-block alert-info\">\n",
    "<b>Task 7 and 8:</b> (50 points, 30 for Task 7).\n",
    "\n",
    "Please refer to Part I and Part II of Mozer's [Assignment 4](https://home.cs.colorado.edu/~mozer/Teaching/syllabi/ProbabilisticModels/homework/assignment4.html) for our Task 7 and 8, respectively.\n",
    "\n",
    "    \n",
    "You can prepare your answers down here, or write in another sheet. Just remember to gather it along with your submission.\n",
    "</div>"
   ]
  },
  {
   "cell_type": "markdown",
   "id": "known-attachment",
   "metadata": {},
   "source": [
    "<div class=\"alert alert-block alert-warning\">\n",
    "<b>Hint</b>.\n",
    "\n",
    "* [Polytree](https://en.wikipedia.org/wiki/Polytree) on Wikipedia.\n",
    "\n",
    "</div>"
   ]
  },
  {
   "cell_type": "markdown",
   "id": "decimal-partition",
   "metadata": {},
   "source": [
    "##### Task 7 (Mozer part 1)"
   ]
  },
  {
   "cell_type": "markdown",
   "id": "hired-primary",
   "metadata": {},
   "source": [
    "##### 1.\n",
    "The Markov blanket of Sneeze is {Cold, Light, Take Medicine, Runny Nose} (every other node), as Cold and Light are its parents, Take Medicine is its child, and Runny Nose is its co-parent.\n",
    "\n",
    "##### 2.\n",
    "The Markov blanket of Take Medicine is {Runny Nose, Sneeze}, as Runny Nose and Sneeze are its parents.\n",
    "\n",
    "##### 3.\n",
    "$P(L, C, RN, S, TM) = P(TM | RN, S) P(RN | C) P(C) P(S | C, L) P(L)$\n",
    "\n",
    "##### 4.\n",
    "$\\begin{align*}\n",
    "P(C=1 | TM=1, RN=0, L=0) &= \\frac{P(C=1, TM=1, RN=0, L=0)}{P(TM=1, RN=0, L=0)} \\\\\n",
    "&= \\frac{\\sum\\limits_{S} P(S, C=1, TM=1, RN=0, L=0)}{\\sum\\limits_{S, C} P(S, C, TM=1, RN=0, L=0)} \\\\\n",
    "&= \\frac{\\sum\\limits_{S} P(TM=1 | RN=0, S) P(RN=0 | C=1) P(C=1) P(S | C=1, L=0) P(L=0)}{\\sum\\limits_{S, C} P(TM=1 | RN=0, S) P(RN=0 | C) P(C) P(S | C, L=0) P(L=0)} \\\\\n",
    "&= \\frac{P(RN=0 | C=1) P(C=1) P(L=0) \\sum\\limits_{S} P(TM=1 | RN=0, S)  P(S | C=1, L=0) }{P(L=0) \\sum\\limits_{S, C} P(TM=1 | RN=0, S) P(RN=0 | C) P(C) P(S | C, L=0)} \\\\\n",
    "&= \\frac{P(RN=0 | C=1) P(C=1) \\sum\\limits_{S} P(TM=1 | RN=0, S)  P(S | C=1, L=0) }{\\sum\\limits_{S, C} P(TM=1 | RN=0, S) P(RN=0 | C) P(C) P(S | C, L=0)} \\\\\n",
    "& \\approx .22785\n",
    "\\end{align*}$\n",
    "\n",
    "##### 5.\n",
    "<img src=\"data:image/png;base64,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\"/>\n",
    "\n",
    "##### 6.\n",
    "<img src=\"data:image/png;base64,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\"/>\n",
    "\n",
    "##### 7.\n",
    "$P(L, C, RN, S, TM) = \\frac{1}{Z} \\underbrace{\\phi_1(C, L, S)}_\\text{$P(S| C, L) P(C) P(L)$} \\underbrace{\\phi_2(C, S, RN)}_\\text{$P(RN | C)$} \\underbrace{\\phi_3(RN, S, TM)}_\\text{$P(TM | RN, S)$}$\n",
    "\n",
    "##### 8.\n",
    "No, the given Bayes net is not a polytree, as the underlying undirected graph is not singly-connected (and is thus not a tree). In order to make it a polytree, we would need to remove $RN \\xrightarrow{} TM$, $S \\xrightarrow{} TM$, $C \\xrightarrow{} RN$, or $C \\xrightarrow{} S$.\n",
    "\n",
    "##### 9.\n",
    "###### a.\n",
    "Every path from $C$ to $TM$ is blocked (non-colliders that are in the conditioning set), so the given statement is **true**.\n",
    "\n",
    "###### b.\n",
    "Not every path from $TM$ to $C$ is blocked (non-collider that isn't in the conditioning set), so the given statement is **false**.\n",
    "\n",
    "###### c.\n",
    "Every path from $C$ to $L$ is blocked (colliders that are not in the conditioning set, nor are any of their descendants), so the given statement is **true**.\n",
    "\n",
    "###### d.\n",
    "Not every path from $C$ to $L$ is blocked (collider that is in the conditioning set, as well as collider whose descendant is in the conditioning set), so the given statement is **false**.\n",
    "\n",
    "###### e.\n",
    "Not every path from $RN$ to $L$ is blocked (collider that is in the conditioning set, as well as collider whose descendant is in the conditioning set), so the given statement is **false**.\n",
    "\n",
    "###### f.\n",
    "Every path from $RN$ to $L$ is blocked (colliders that are not in the conditioning set, nor are any of their descendants), so the given statement is **true**.\n",
    "\n",
    "###### g.\n",
    "Not every path from $RN$ to $L$ is blocked (collider that is in the conditioning set), so the given statement is **false**.\n",
    "\n",
    "###### h.\n",
    "Every path from $RN$ to $L$ is blocked (non-collider that is in the conditioning set, as well as collider that isn't in the conditioning set), so the given statement is **true**."
   ]
  },
  {
   "cell_type": "markdown",
   "id": "aware-suggestion",
   "metadata": {},
   "source": [
    "##### Task 8 (Mozer part 2)"
   ]
  },
  {
   "cell_type": "markdown",
   "id": "satellite-express",
   "metadata": {},
   "source": [
    "##### 1.\n",
    "$P(A, D, U, H, P) = P(H|P) P(P) P(U|P,D) P(D) P(A|U)$\n",
    "\n",
    "##### 2.\n",
    "$\\begin{align*}\n",
    "P(H) &= \\sum\\limits_{A, D, U, P} P(A, D, U, H, P) \\\\\n",
    "&= \\sum\\limits_{A, D, U, P} P(H|P) P(P) P(U|P,D) P(D) P(A|U) \\\\\n",
    "&= \\sum\\limits_{P} P(H|P) P(P) \\sum\\limits_{D} P(D) \\sum\\limits_{U} P(U|P,D) \\sum\\limits_{A} P(A|U)\n",
    "\\end{align*}$\n",
    "\n",
    "##### 3.\n",
    "$\\begin{align*}\n",
    "P(U=u | D=d) &= \\frac{P(U=u, D=d)}{P(D=d)} \\\\\n",
    "&= \\frac{\\sum\\limits_{A, H, P} P(A, D=d, U=u, H, P)}{\\sum\\limits_{A, U, H, P} P(A, D=d, U, H, P)} \\\\\n",
    "&= \\frac{\\sum\\limits_{A, H, P} P(H|P) P(P) P(U=u|P,D=d) P(D=d) P(A|U=u)}{\\sum\\limits_{A, U, H, P} P(H|P) P(P) P(U|P,D=d) P(D=d) P(A|U)} \\\\\n",
    "&= \\frac{\\overbrace{P(D=d)}^\\text{cancels} \\sum\\limits_{P} P(P) P(U=u|P,D=d) \\sum\\limits_{H} P(H|P) \\overbrace{\\sum\\limits_{A} P(A|U=u)}^\\text{=1}} {\\underbrace{P(D=d)}_\\text{cancels} \\sum\\limits_{P} P(P) \\sum\\limits_{H} P(H|P) \\sum\\limits_{U} P(U|P,D=d) \\sum\\limits_{A} P(A|U)} \\\\\n",
    "&= \\frac{\\sum\\limits_{P} P(P) P(U=u|P,D=d) \\sum\\limits_{H} P(H|P)} {\\sum\\limits_{P} P(P) \\sum\\limits_{H} P(H|P) \\sum\\limits_{U} P(U|P,D=d) \\sum\\limits_{A} P(A|U)} \\\\\n",
    "\\end{align*}$"
   ]
  }
 ],
 "metadata": {
  "kernelspec": {
   "display_name": "Python 3",
   "language": "python",
   "name": "python3"
  },
  "language_info": {
   "codemirror_mode": {
    "name": "ipython",
    "version": 3
   },
   "file_extension": ".py",
   "mimetype": "text/x-python",
   "name": "python",
   "nbconvert_exporter": "python",
   "pygments_lexer": "ipython3",
   "version": "3.8.2"
  }
 },
 "nbformat": 4,
 "nbformat_minor": 5
}
