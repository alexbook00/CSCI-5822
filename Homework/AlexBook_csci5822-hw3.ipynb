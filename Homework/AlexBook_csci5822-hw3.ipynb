{
 "cells": [
  {
   "cell_type": "markdown",
   "id": "matched-vehicle",
   "metadata": {},
   "source": [
    "# CSCI 5822 Assignment 3\n",
    "\n",
    "\n",
    "<div class=\"alert alert-block alert-danger\">\n",
    "    \n",
    "<b>Assigned:</b> Feb 26, 2021.\n",
    "\n",
    "<b>Due:</b> Mar 12 (11:59pm, MST), on Canvas.\n",
    "\n",
    "<b>Update:</b> You can submit either PDF or HTML file. If you prefer not to use LaTeX, it's fine too. Just make sure that your answers are displayed clearly and only submit one file.\n",
    "    \n",
    "<b>Note:</b> Tasks 1-6 are about Chapter 4 in the book, whereas Tasks 7 and 8 are for Chapter 5.\n",
    "    \n",
    "</div>\n",
    "\n",
    "\n",
    "\n",
    "\n",
    "Do not forget to edit your name here.\n",
    "\n",
    "<div class=\"alert alert-block alert-success\">\n",
    "\n",
    "<b>Name:</b> Alex Book\n",
    "    \n",
    "<b>Collaborated With:</b> Cole Sturza\n",
    "\n",
    "</div>\n",
    "\n",
    "The collaboration/anti-plagiarism policy for this course can be found in the syllabus statements.\n",
    "\n",
    "The questions  provided  below will ask you to either write code or \n",
    "write answers in the form of markdown. Markdown syntax guide is here: [click here](https://www.markdownguide.org/basic-syntax/). \n",
    "\n",
    "----\n",
    "\n",
    "We will follow the following grading rubrics.\n",
    "+ 10: correct answer, work is shown and clear\n",
    "+ 8: correct answer but work might be difficult to read\n",
    "+ 6: incorrect answer but good attempt\n",
    "+ 4: mediocre attempt or very difficult to read\n",
    "+ 2: problem is written down, no attempt to solve\n",
    "+ 0: problem is not written down\n",
    "\n",
    "\n",
    "__Double click anywhere on this box to find out how your instructor typeset it. Press Shift+Enter to go back.__\n"
   ]
  },
  {
   "cell_type": "markdown",
   "id": "juvenile-stuart",
   "metadata": {},
   "source": [
    "<div class=\"alert alert-block alert-info\">\n",
    "<b>Task 1:</b> (10 points, 5 each).\n",
    "\n",
    "(1) Consider the pairwise Markov network,\n",
    "    \n",
    "$$p(x) = \\phi(x_1, x_2) \\phi(x_2, x_3) \\phi(x_3, x_4) \\phi(x_4, x_1)$$\n",
    "    \n",
    "Express in terms of $\\phi$ the following:\n",
    "    \n",
    "$$p(x_1|x_2, x_4),\\  p(x_2|x_1, x_3),\\  p(x_3|x_2, x_4),\\  p(x_4|x_1, x_3) \\ .$$\n",
    "    \n",
    "(2) For a set of local distributions defined as\n",
    "    \n",
    "$$ p_1(x_1|x_2, x_4),\\  p_2(x_2|x_1, x_3),\\  p_3(x_3|x_2, x_4),\\  p_4(x_4|x_1, x_3) \\ ,$$\n",
    "    \n",
    "is it always possible to find a joint distribution $p(x_1, x_2, x_3, x_4)$ consistent with these local conditional distributions?\n",
    "\n",
    "\n",
    "</div>"
   ]
  },
  {
   "cell_type": "code",
   "execution_count": null,
   "id": "defined-possible",
   "metadata": {},
   "outputs": [],
   "source": [
    "# Your answer to Task 1\n",
    "# Expected lines:\n",
    "# (1) Four equalities\n",
    "# (2) If yay, prove it. If nay, find a counterexample and explain."
   ]
  },
  {
   "cell_type": "markdown",
   "id": "insured-owner",
   "metadata": {},
   "source": [
    "##### 1.\n",
    "$\\begin{align*}\n",
    "P(x_1 | x_2, x_4) &= \\frac{p(x_1, x_2, x_4)}{p(x_2, x_4)} \\\\\n",
    "&= \\frac{\\sum\\limits_{x_3} p(x_1, x_2, x_3, x_4)}{\\sum\\limits_{x_1, x_3} p(x_1, x_2, x_3, x_4)} \\\\\n",
    "&= \\frac{\\sum\\limits_{x_3} \\phi(x_1, x_2) \\phi(x_2, x_3) \\phi(x_3, x_4) \\phi(x_4, x_1)}{\\sum\\limits_{x_1, x_3} \\phi(x_1, x_2) \\phi(x_2, x_3) \\phi(x_3, x_4) \\phi(x_4, x_1)} \\\\\n",
    "&= \\frac{\\phi(x_1, x_2) \\phi(x_4, x_1) \\sum\\limits_{x_3} \\phi(x_2, x_3) \\phi(x_3, x_4) }{\\sum\\limits_{x_1} \\phi(x_1, x_2) \\phi(x_4, x_1) \\sum\\limits_{x_3}  \\phi(x_2, x_3) \\phi(x_3, x_4)} \\\\\n",
    "&= \\frac{\\phi(x_1, x_2) \\phi(x_4, x_1)}{\\sum\\limits_{x_1} \\phi(x_1, x_2) \\phi(x_4, x_1)}\n",
    "\\end{align*}$"
   ]
  },
  {
   "cell_type": "markdown",
   "id": "considerable-guard",
   "metadata": {},
   "source": [
    "$\\begin{align*}\n",
    "P(x_2 | x_1, x_3) &= \\frac{p(x_1, x_2, x_3)}{p(x_1, x_3)} \\\\\n",
    "&= \\frac{\\sum\\limits_{x_4} p(x_1, x_2, x_3, x_4)}{\\sum\\limits_{x_2, x_4} p(x_1, x_2, x_3, x_4)} \\\\\n",
    "&= \\frac{\\sum\\limits_{x_4} \\phi(x_1, x_2) \\phi(x_2, x_3) \\phi(x_3, x_4) \\phi(x_4, x_1)}{\\sum\\limits_{x_2, x_4} \\phi(x_1, x_2) \\phi(x_2, x_3) \\phi(x_3, x_4) \\phi(x_4, x_1)} \\\\\n",
    "&= \\frac{\\phi(x_1, x_2) \\phi(x_2, x_3) \\sum\\limits_{x_4} \\phi(x_3, x_4) \\phi(x_4, x_1)}{\\sum\\limits_{x_2} \\phi(x_1, x_2) \\phi(x_2, x_3) \\sum\\limits_{x_4} \\phi(x_3, x_4) \\phi(x_4, x_1)} \\\\\n",
    "&= \\frac{\\phi(x_1, x_2) \\phi(x_2, x_3)}{\\sum\\limits_{x_2} \\phi(x_1, x_2) \\phi(x_2, x_3)}\n",
    "\\end{align*}$"
   ]
  },
  {
   "cell_type": "markdown",
   "id": "injured-premiere",
   "metadata": {},
   "source": [
    "$\\begin{align*}\n",
    "P(x_3 | x_2, x_4) &= \\frac{p(x_2, x_3, x_4)}{p(x_2, x_4)} \\\\\n",
    "&= \\frac{\\sum\\limits_{x_1} p(x_1, x_2, x_3, x_4)}{\\sum\\limits_{x_1, x_3} p(x_1, x_2, x_3, x_4)} \\\\\n",
    "&= \\frac{\\sum\\limits_{x_1} \\phi(x_1, x_2) \\phi(x_2, x_3) \\phi(x_3, x_4) \\phi(x_4, x_1)}{\\sum\\limits_{x_1, x_3} \\phi(x_1, x_2) \\phi(x_2, x_3) \\phi(x_3, x_4) \\phi(x_4, x_1)} \\\\\n",
    "&= \\frac{\\phi(x_2, x_3) \\phi(x_3, x_4) \\sum\\limits_{x_1} \\phi(x_1, x_2) \\phi(x_4, x_1)}{\\sum\\limits_{x_3} \\phi(x_2, x_3) \\phi(x_3, x_4) \\sum\\limits_{x_1} \\phi(x_1, x_2) \\phi(x_4, x_1)} \\\\\n",
    "&= \\frac{\\phi(x_2, x_3) \\phi(x_3, x_4)}{\\sum\\limits_{x_3}  \\phi(x_2, x_3)\\phi(x_3, x_4)}\n",
    "\\end{align*}$"
   ]
  },
  {
   "cell_type": "markdown",
   "id": "directed-gazette",
   "metadata": {},
   "source": [
    "$\\begin{align*}\n",
    "P(x_4 | x_1, x_3) &= \\frac{p(x_1, x_3, x_4)}{p(x_1, x_3)} \\\\\n",
    "&= \\frac{\\sum\\limits_{x_2} p(x_1, x_2, x_3, x_4)}{\\sum\\limits_{x_2, x_4} p(x_1, x_2, x_3, x_4)} \\\\\n",
    "&= \\frac{\\sum\\limits_{x_2} \\phi(x_1, x_2) \\phi(x_2, x_3) \\phi(x_3, x_4) \\phi(x_4, x_1)}{\\sum\\limits_{x_2, x_4} \\phi(x_1, x_2) \\phi(x_2, x_3) \\phi(x_3, x_4) \\phi(x_4, x_1)} \\\\\n",
    "&= \\frac{\\phi(x_3, x_4) \\phi(x_4, x_1) \\sum\\limits_{x_2} \\phi(x_1, x_2) \\phi(x_2, x_3)}{\\sum\\limits_{x_4} \\phi(x_3, x_4) \\phi(x_4, x_1) \\sum\\limits_{x_2} \\phi(x_1, x_2) \\phi(x_2, x_3)} \\\\\n",
    "&= \\frac{\\phi(x_3, x_4) \\phi(x_4, x_1)}{\\sum\\limits_{x_4} \\phi(x_3, x_4) \\phi(x_4, x_1)}\n",
    "\\end{align*}$"
   ]
  },
  {
   "cell_type": "markdown",
   "id": "intimate-exhaust",
   "metadata": {},
   "source": [
    "##### 2.\n",
    "![alt text](Task1_graph.PNG \"Title\")"
   ]
  },
  {
   "cell_type": "markdown",
   "id": "solar-grain",
   "metadata": {},
   "source": [
    "The above graph is formed by the given local distributions. It is cyclic, which is disallowed in belief networks (a belief network must be a DAG). Therefore, it is not possible to find a joint distribution $p(x_1, x_2, x_3, x_4)$ that is consistent with the given local distributions."
   ]
  },
  {
   "cell_type": "markdown",
   "id": "historical-draft",
   "metadata": {},
   "source": [
    "<div class=\"alert alert-block alert-info\">\n",
    "<b>Task 2:</b> (10 points).\n",
    "    \n",
    "Consider the Markov network\n",
    "    \n",
    "$$p(a, b, c) = \\phi_{ab}(a, b)\\phi_{bc}(b, c)$$\n",
    "    \n",
    "Nominally, by summing over $b$, the variables $a$ and $c$ are dependent. For binary $b$, explain a situation in which this is not the case, so that marginally, $a$ and $c$ are independent.\n",
    "\n",
    "</div>"
   ]
  },
  {
   "cell_type": "code",
   "execution_count": 2,
   "id": "harmful-transition",
   "metadata": {},
   "outputs": [],
   "source": [
    "# Your answer to Task 2 (expected lines: 2~3)"
   ]
  },
  {
   "cell_type": "markdown",
   "id": "loving-toilet",
   "metadata": {},
   "source": [
    "$\\begin{align*}\n",
    "p(a | c) &= \\sum\\limits_{b} \\phi_{ab}(a, b)\\phi_{bc}(b, c) \\\\\n",
    "&= \\phi_{ab}(a, b=0) \\underbrace{\\phi_{bc}(b=0, c)}_\\text{set this to equal 0} + \\phi_{ab}(a, b=1) \\phi_{bc}(b=1, c) \\\\\n",
    "&= \\phi_{ab}(a, b=1) \\phi_{bc}(b=1, c) & \\text{$b$ is a constant here, so this factors to $\\phi_{a}(a) \\phi_{c}(c) = \\phi(a) \\phi(c)$}\\\\\n",
    "&= \\phi(a) \\phi(c)\n",
    "\\end{align*}$\n",
    "\n",
    "So, in such a situation, where $\\phi_{bc}(b=0, c) = 0$, $a$ and $c$ are seen to be independent, as $p(a | c) = \\phi(a) \\phi(c)$."
   ]
  },
  {
   "cell_type": "markdown",
   "id": "outstanding-flight",
   "metadata": {},
   "source": [
    "<div class=\"alert alert-block alert-info\">\n",
    "<b>Task 3:</b> (12 points, bonus, 3 each).\n",
    "\n",
    "The restricted Boltzmann machine (or Harmonium, see [this Ref.](https://apps.dtic.mil/dtic/tr/fulltext/u2/a620727.pdf)) is a constrained Boltzmann machine on a bipartite graph, consisting of a layer of visible variables $\\mathbf{v} = (v_1, \\dots,v_V )$ and hidden variables $\\mathbf{h} = (h_1, \\dots ,h_H)$:\n",
    "\n",
    "    \n",
    "$$p(\\mathbf{v}, \\mathbf{h})= \\frac{1}{Z(\\mathbf{W}, \\mathbf{a}, \\mathbf{b})} \\exp(\\mathbf{v}^\\intercal \\mathbf{W} \\mathbf{h} + \\mathbf{a}^\\intercal \\mathbf{v} + \\mathbf{b}^\\intercal \\mathbf{h}) \\ .$$\n",
    "\n",
    "All variables are binary taking states $0, 1$.\n",
    "\n",
    "(1) Show that the distribution of hidden units conditional on the visible units factorizes as\n",
    "\n",
    "$$p(\\mathbf{h} | \\mathbf{v}) = \\prod_{i} p(h_i | \\mathbf{v}) \\text{, with } p(h_i = 1 | \\mathbf{v}) = \\sigma(b_i + \\sum_j{W_{ji} v_j})$$\n",
    "\n",
    "where $\\sigma(x) = e^x/(1 + e^x)$.\n",
    "    \n",
    "(2) By symmetry arguments, write down the form of the conditional $p(\\mathbf{v} | \\mathbf{h})$.\n",
    "    \n",
    "(3) Is $p(\\mathbf{h}) = \\prod_i p(h_i)$?\n",
    "    \n",
    "(4) Can the partition function $Z(\\mathbf{W}, \\mathbf{a}, \\mathbf{b})$ be computed efficiently for the RBM?    \n",
    "\n",
    "</div>"
   ]
  },
  {
   "cell_type": "code",
   "execution_count": 3,
   "id": "numeric-substitute",
   "metadata": {},
   "outputs": [
    {
     "data": {
      "text/html": [
       "<img src=\"https://gist.githubusercontent.com/junipertcy/b4cde5d9d6db4c7aa5a84ab3eec4a89d/raw/236fb46bc4f63232e4d2339bf49f4bf0e764cf8d/exercise_4.4.png\"/>"
      ],
      "text/plain": [
       "<IPython.core.display.Image object>"
      ]
     },
     "execution_count": 3,
     "metadata": {},
     "output_type": "execute_result"
    }
   ],
   "source": [
    "from IPython.display import Image\n",
    "Image(url=\"https://gist.githubusercontent.com/junipertcy/b4cde5d9d6db4c7aa5a84ab3eec4a89d/raw/236fb46bc4f63232e4d2339bf49f4bf0e764cf8d/exercise_4.4.png\")"
   ]
  },
  {
   "cell_type": "code",
   "execution_count": 4,
   "id": "breeding-vitamin",
   "metadata": {},
   "outputs": [],
   "source": [
    "# Your answer to Task 3\n",
    "# Expected lines: 2 or 3 lines each, except (4), which would call for some arguments."
   ]
  },
  {
   "cell_type": "markdown",
   "id": "loving-arrow",
   "metadata": {},
   "source": [
    "<div class=\"alert alert-block alert-info\">\n",
    "<b>Task 4:</b> (10 points).\n",
    "    \n",
    "Consider the distribution\n",
    "    \n",
    "$$p(t_1, t_2, y_1, y_2, h) = p(y_1|y_2, t_1, t_2, h)p(y_2|t_2, h)p(t_1)p(t_2)p(h)$$\n",
    "\n",
    "    \n",
    "(1) Draw a belief network for this distribution.\n",
    "\n",
    "\n",
    "(2) Does the distribution\n",
    "    \n",
    "$$p(t_1, t_2, y_1, y_2) = \\sum_{h} p(y_1|y_2, t_1, t_2, h)p(y_2|t_2, h)p(t_1)p(t_2)p(h)$$\n",
    "    \n",
    "have a perfect map belief network?\n",
    "    \n",
    "(3) Show that for $p(t_1,t_2,y_1,y_2)$ as defined above $t_1 \\perp\\!\\!\\!\\perp y_2 \\mid \\varnothing$.\n",
    "    \n",
    "\n",
    "</div>"
   ]
  },
  {
   "cell_type": "code",
   "execution_count": 2,
   "id": "swedish-acrobat",
   "metadata": {},
   "outputs": [],
   "source": [
    "# Your answer to Task 4\n",
    "# Expected lines:\n",
    "# (1) A graph\n",
    "# (2) If yay, prove it. If nay, explain.\n",
    "# (3) Depending on your approach; can be 1~2 lines."
   ]
  },
  {
   "cell_type": "markdown",
   "id": "metallic-hydrogen",
   "metadata": {},
   "source": [
    "##### 1.\n",
    "![alt text](Task4_part1_graph.PNG \"Title\")"
   ]
  },
  {
   "cell_type": "markdown",
   "id": "joint-directive",
   "metadata": {},
   "source": [
    "##### 2."
   ]
  },
  {
   "cell_type": "markdown",
   "id": "confidential-primary",
   "metadata": {},
   "source": [
    "##### 3.\n",
    "![alt text](Task4_part3_graph.PNG \"Title\")\n",
    "\n",
    "The above graph is produced by the given distribution for $p(t_1, t_2, y_1, y_2)$. Every path from $t_{1}$ to $y_{2}$ must go through $y_{1}$, which is a collider that isn't in the conditioning set and has no descendants in the conditioning set. Therefore, all paths from $t_{1}$ to $y_{2}$ are blocked, so it is true that $t_1 \\perp\\!\\!\\!\\perp y_2 \\mid \\varnothing$."
   ]
  },
  {
   "cell_type": "markdown",
   "id": "logical-invalid",
   "metadata": {},
   "source": [
    "<div class=\"alert alert-block alert-info\">\n",
    "<b>Task 5:</b> (10 points).\n",
    "\n",
    "Consider the distribution\n",
    "    \n",
    "$$p(a, b, c, d) = \\phi_{ab}(a, b) \\phi_{bc}(b, c) \\phi_{cd}(c, d) \\phi_{da}(d, a)$$    \n",
    "    \n",
    "where the $\\phi$ are potentials.\n",
    "\n",
    "\n",
    "(1) Draw a Markov network for this distribution.\n",
    "\n",
    "\n",
    "(2) Explain if the distribution can be represented as a (\"non-complete\") belief network.\n",
    "\n",
    "\n",
    "(3) Derive explicitly if $a \\perp\\!\\!\\!\\perp c \\mid \\varnothing$.\n",
    "\n",
    "\n",
    "</div>"
   ]
  },
  {
   "cell_type": "markdown",
   "id": "sacred-region",
   "metadata": {},
   "source": [
    "# Your answer to Task 5\n",
    "# Expected lines:\n",
    "# (1) A graph\n",
    "# (2) 5~6 lines.\n",
    "# (3) 1~2 lines.\n",
    "a and c are separated by {b,d}, so unless we condition on {b, d}, a and c are dependent."
   ]
  },
  {
   "cell_type": "markdown",
   "id": "colonial-cleanup",
   "metadata": {},
   "source": [
    "##### 1.\n",
    "![alt text](Task5_graph.PNG \"Title\")"
   ]
  },
  {
   "cell_type": "markdown",
   "id": "developed-transcription",
   "metadata": {},
   "source": [
    "##### 2.\n",
    "If we try to create the directed edges necessary for the proper independence assumptions ($a \\perp\\!\\!\\!\\perp c \\mid b, d$ and $b \\perp\\!\\!\\!\\perp d \\mid a, c$), we will get a cyclic graph (which is disallowed in belief networks) and if we try to create a DAG (which a belief network must be), we will get colliders (which break the independence assumptions). Therefore, there is no way that the given distribution can be represent as a (\"non-complete\") belief network."
   ]
  },
  {
   "cell_type": "markdown",
   "id": "excellent-artwork",
   "metadata": {},
   "source": [
    "##### 3.\n",
    "$a$ and $c$ are separated by $\\{ b, d \\}$, so unless we condition on $\\{ b, d \\}$, $a$ and $c$ are dependent. Therefore, it is false that $a \\perp\\!\\!\\!\\perp c \\mid \\varnothing$. "
   ]
  },
  {
   "cell_type": "markdown",
   "id": "psychological-mirror",
   "metadata": {},
   "source": [
    "<div class=\"alert alert-block alert-info\">\n",
    "<b>Task 6:</b> (10 points).\n",
    "    \n",
    "Show how for any singly-connected Markov network, one may construct a Markov equivalent belief network.\n",
    "\n",
    "\n",
    "</div>"
   ]
  },
  {
   "cell_type": "code",
   "execution_count": null,
   "id": "graphic-appreciation",
   "metadata": {},
   "outputs": [],
   "source": [
    "# Your answer to Task 6 (Expected lines: 1~2)"
   ]
  },
  {
   "cell_type": "markdown",
   "id": "worthy-textbook",
   "metadata": {},
   "source": [
    "In order to construct a Markov-equivalent belief network for a given singly-connected Markov network, we will start at a node that has only one neighbor (if you look at the given Markov network as a tree, we will start at one of the leaf nodes). From that starting node, we will draw directed edges pointing away from the parent node along every single edge, gradually increasing the distance from the starting node (the iteration through the nodes would look similar to a depth-first or breadth-first search). This will allow there to be zero colliders in the resultant belief network, which would preserve all conditional independence statements (two nodes would be dependent unless conditioned on the separator set that existed in the given Markov network)."
   ]
  },
  {
   "cell_type": "markdown",
   "id": "driving-paper",
   "metadata": {},
   "source": [
    "<div class=\"alert alert-block alert-info\">\n",
    "<b>Task 7 and 8:</b> (50 points, 30 for Task 7).\n",
    "\n",
    "Please refer to Part I and Part II of Mozer's [Assignment 4](https://home.cs.colorado.edu/~mozer/Teaching/syllabi/ProbabilisticModels/homework/assignment4.html) for our Task 7 and 8, respectively.\n",
    "\n",
    "    \n",
    "You can prepare your answers down here, or write in another sheet. Just remember to gather it along with your submission.\n",
    "</div>"
   ]
  },
  {
   "cell_type": "markdown",
   "id": "assured-liberal",
   "metadata": {},
   "source": [
    "<div class=\"alert alert-block alert-warning\">\n",
    "<b>Hint</b>.\n",
    "\n",
    "* [Polytree](https://en.wikipedia.org/wiki/Polytree) on Wikipedia.\n",
    "\n",
    "</div>"
   ]
  },
  {
   "cell_type": "markdown",
   "id": "modified-minneapolis",
   "metadata": {},
   "source": [
    "##### Task 7 (Mozer part 1)"
   ]
  },
  {
   "cell_type": "markdown",
   "id": "dirty-shoulder",
   "metadata": {},
   "source": [
    "##### 1.\n",
    "The Markov blanket of Sneeze is {Cold, Light, Take Medicine, Runny Nose} (every other node), as Cold and Light are its parents, Take Medicine is its child, and Runny Nose is its co-parent.\n",
    "\n",
    "##### 2.\n",
    "The Markov blanket of Take Medicine is {Runny Nose, Sneeze}, as Runny Nose and Sneeze are its parents.\n",
    "\n",
    "##### 3.\n",
    "$P(L, C, RN, S, TM) = P(TM | RN, S) P(RN | C) P(C) P(S | C, L) P(L)$\n",
    "\n",
    "##### 4.\n",
    "$\\begin{align*}\n",
    "P(C=1 | TM=1, RN=0, L=0) &= \\frac{P(C=1, TM=1, RN=0, L=0)}{P(TM=1, RN=0, L=0)} \\\\\n",
    "&= \\frac{\\sum\\limits_{S} P(S, C=1, TM=1, RN=0, L=0)}{\\sum\\limits_{S, C} P(S, C, TM=1, RN=0, L=0}\n",
    "\\end{align*}$\n",
    "\n",
    "##### 5.\n",
    "Moralize the Bayes net and remove direction from edges.\n",
    "\n",
    "##### 6.\n",
    "Follow notes from lecture\n",
    "\n",
    "##### 7.\n",
    "\n",
    "\n",
    "##### 8.\n",
    "No, need to remove RN-TM, S-TM, C-RN, or C-S\n",
    "\n",
    "##### 9.\n",
    "Just do it"
   ]
  },
  {
   "cell_type": "markdown",
   "id": "moderate-reality",
   "metadata": {},
   "source": [
    "##### Task 8 (Mozer part 2)"
   ]
  },
  {
   "cell_type": "markdown",
   "id": "structured-plant",
   "metadata": {},
   "source": [
    "##### 1.\n",
    "$P(A, D, U, H, P) = P(H|P)P(P)P(U|P,D)P(D)P(A|U)$\n",
    "\n",
    "##### 2.\n",
    "$\\begin{align*}\n",
    "P(H) &= \\sum\\limits_{A, D, U, P} P(H|P)P(P)P(U|P,D)P(D)P(A|U) \\\\\n",
    "&= \\sum\\limits_{P} P(H|P)P(P) \\sum\\limits_{D} P(D) \\sum\\limits_{U} P(U|P,D) \\sum\\limits_{A} P(A|U)\n",
    "\\end{align*}$\n",
    "##### 3.\n",
    "\n",
    "Same as what we did in Task 1 part 1"
   ]
  }
 ],
 "metadata": {
  "kernelspec": {
   "display_name": "Python 3",
   "language": "python",
   "name": "python3"
  },
  "language_info": {
   "codemirror_mode": {
    "name": "ipython",
    "version": 3
   },
   "file_extension": ".py",
   "mimetype": "text/x-python",
   "name": "python",
   "nbconvert_exporter": "python",
   "pygments_lexer": "ipython3",
   "version": "3.8.2"
  }
 },
 "nbformat": 4,
 "nbformat_minor": 5
}
