{
 "cells": [
  {
   "cell_type": "markdown",
   "metadata": {},
   "source": [
    "# CSCI 5822 Assignment 1 \n",
    "\n",
    "\n",
    "<div class=\"alert alert-block alert-danger\">\n",
    "    \n",
    "<b>Assigned:</b> Jan 22, 2021.\n",
    "    \n",
    "<b>Due:</b> Feb 5 (11:59pm, MST), on Canvas.\n",
    "\n",
    "</div>\n",
    "\n",
    "You have the option to solve the assignment in place and upload the notebook as a PDF (`via \"File\" -> \"Download as\" -> \"PDF via LaTeX (.pdf)\"`) file. OR, use the notebook as a worksheet and upload your answers as a separated, typed PDF file. You may get partial points if you append the notebook to that file.\n",
    "\n",
    "\n",
    "Do not forget to edit your name here.\n",
    "\n",
    "<div class=\"alert alert-block alert-success\">\n",
    "\n",
    "<b>Name:</b> Alex Book\n",
    "    \n",
    "<b>Collaborated With:</b> Cole Sturza\n",
    "\n",
    "</div>\n",
    "\n",
    "The collaboration/anti-plagiarism policy for this course can be found in the syllabus statements.\n",
    "\n",
    "The questions  provided  below will ask you to either write code or \n",
    "write answers in the form of markdown. Markdown syntax guide is here: [click here](https://www.markdownguide.org/basic-syntax/). Using markdown you can typeset formulae using latex. This way you can write nice readable answers with formulae like thus:\n",
    "\n",
    "> A Markov chain is of the form $p(x_T) \\prod_{t=1}^{T-1}{p(x_t | x_{t+1})}$ for some assignment of the variables to labels $x_t$.\n",
    "\n",
    "----\n",
    "\n",
    "We will follow the following grading rubrics.\n",
    "+ 10: correct answer, work is shown and clear\n",
    "+ 8: correct answer but work might be difficult to read\n",
    "+ 6: incorrect answer but good attempt\n",
    "+ 4: mediocre attempt or very difficult to read\n",
    "+ 2: problem is written down, no attempt to solve\n",
    "+ 0: problem is not written down\n",
    "\n",
    "\n",
    "__Double click anywhere on this box to find out how your instructor typeset it. Press Shift+Enter to go back.__\n"
   ]
  },
  {
   "cell_type": "markdown",
   "metadata": {},
   "source": [
    "The Tasks 1-5 are from Excercises 1.1-1.6 of Barber.\n",
    "\n"
   ]
  },
  {
   "cell_type": "markdown",
   "metadata": {},
   "source": [
    "<div class=\"alert alert-block alert-info\">\n",
    "<b>Task 1:</b> (10 points).\n",
    "    \n",
    "Prove\n",
    "\n",
    "$$p(x, y | z) = p(x | z) p(y | x, z)$$\n",
    "\n",
    "and also\n",
    "\n",
    "$$p(x | y, z) = \\frac{p(y | x, z) p(x|z)}{p(y|z)} \\ .$$\n",
    "\n",
    "\n",
    "</div>"
   ]
  },
  {
   "cell_type": "markdown",
   "metadata": {},
   "source": [
    "### your answer to task 1\n",
    "$\n",
    "\\begin{align*}\n",
    "p(x,y | z) &= \\frac{p(x,y,z)}{p(z)} & \\quad \\text{Conditional Probability} \\quad (1)\\\\\n",
    "&= \\frac{p(y,x,z)}{p(z)} & \\quad \\text{Commutativity of Probability} \\quad (2)\\\\\n",
    "&= \\frac{p(y|x,z)p(x|z)p(z)}{p(z)} & \\quad \\text{Chain Rule of Probability} \\quad (3)\\\\\n",
    "&= p(y|x,z)p(x|z) & \\quad (4)\\\\\n",
    "&= p(x|z)p(y|x,z) & \\text{Commutativity of Multiplication} \\quad \\square\n",
    "\\end{align*}\n",
    "$"
   ]
  },
  {
   "cell_type": "markdown",
   "metadata": {},
   "source": [
    "$\n",
    "\\begin{align*}\n",
    "p(x|y,z) &= \\frac{p(x,y,z)}{p(y,z)} & \\quad \\text{Conditional Probability} \\quad (1)\\\\\n",
    "&= \\frac{p(x,y|z)p(z)}{p(y,z)} & \\quad \\text{Chain Rule of Probability} \\quad (2)\\\\\n",
    "&= \\frac{p(x,y|z)p(z)}{p(y|z)p(z)} & \\quad \\text{Chain Rule of Probability} \\quad (3)\\\\\n",
    "&= \\frac{p(x,y|z)}{p(y|z)} & \\quad (4)\\\\\n",
    "&= \\frac{p(x|z)p(y|x,z)}{p(y|z)} & \\quad \\text{Proven in first proof of task 1} \\quad (5)\\\\\n",
    "&= \\frac{p(y|x,z)p(x|z)}{p(y|z)} & \\quad \\text{Commutativity of Multiplication} \\quad \\square\n",
    "\\end{align*}\n",
    "$"
   ]
  },
  {
   "cell_type": "markdown",
   "metadata": {},
   "source": [
    "<div class=\"alert alert-block alert-info\">\n",
    "<b>Task 2:</b> (10 points).\n",
    "    \n",
    "Prove the [Bonferroni inequality](https://en.wikipedia.org/wiki/Boole%27s_inequality#Bonferroni_inequalities)\n",
    "\n",
    "$$p(a, b) \\geq p(a) + p(b) - 1 \\ .$$\n",
    "\n",
    "</div>"
   ]
  },
  {
   "cell_type": "markdown",
   "metadata": {},
   "source": [
    "### your answer to task 2\n",
    "Note that $p(a,b) = p(a \\cap b)$.\n",
    "\n",
    "$\n",
    "\\begin{align*}\n",
    "p(a \\cup b) &= p(a) + p(b) - p(a \\cap b) & \\quad \\text{Addition Rule of Probability} \\quad (1)\\\\\n",
    "1 &\\geq p(a \\cup b) & \\quad \\text{True by definition, any probability must be less than or equal to 1} \\quad (2)\\\\\n",
    "1 &\\geq p(a) + p(b) - p(a \\cap b) & \\quad \\text{Combined (1) and (2)} \\quad (3)\\\\\n",
    "p(a \\cap b) &\\geq p(a) + p(b) - 1 & (4)\\\\\n",
    "p(a,b) &\\geq p(a) + p(b) - 1 & \\quad \\square\n",
    "\\end{align*}\n",
    "$"
   ]
  },
  {
   "cell_type": "markdown",
   "metadata": {},
   "source": [
    "<div class=\"alert alert-block alert-info\">\n",
    "<b>Task 3:</b> (10 points).\n",
    "    \n",
    "Consider three variable distributions which admit the factorization\n",
    "\n",
    "$$p(a, b, c) = p(a | b) p(b |c) p(c) \\ ,$$\n",
    "    \n",
    "where all variables are binary. How many parameters are needed to specify distributions of this form?    \n",
    "    \n",
    "</div>"
   ]
  },
  {
   "cell_type": "markdown",
   "metadata": {},
   "source": [
    "### your answer to task 3\n",
    "\n",
    "In order to represent the distribution of $p(a|b)$, two parameters are needed. Say, $p(a=1|b=0)$ and $p(a=1|b=1)$. Using complementation, all other variations of $p(a|b)$ can be found. Similarly, two parameters are needed to represent the distribution of $p(b|c)$. Lastly, only one parameter is needed to represent the distribution of $p(c)$. So, five parameters in total are needed to represent the distributions of the given form."
   ]
  },
  {
   "cell_type": "markdown",
   "metadata": {},
   "source": [
    "<div class=\"alert alert-block alert-info\">\n",
    "<b>Task 4:</b> (20 points, 10 each).\n",
    "\n",
    "<b>(a)</b> There are two boxes. Box 1 contains three red and five white balls and\n",
    "box 2 contains two red and five white balls. A box is chosen at random `p(box = 1) = p(box = 2) = 0.5` and\n",
    "a ball chosen at random from this box turns out to be red. What is the posterior probability that the red ball\n",
    "came from box 1?\n",
    "\n",
    "<br>\n",
    "    \n",
    "<b>(b)</b> Two balls are placed in a box as follows: \n",
    "A fair coin is tossed and a white ball is placed in the box if a head occurs, otherwise a red ball is placed in the box. The coin is tossed again and a red ball is placed in the box if a tail occurs, otherwise a white ball is placed in the box. Balls are drawn from the box three times in succession (always with replacing the drawn ball back in the box). It is found that on all three occasions a red ball is drawn. What is the probability that both balls in the box are red?    \n",
    "</div>\n"
   ]
  },
  {
   "cell_type": "markdown",
   "metadata": {},
   "source": [
    "### your answer to task 4(a)\n",
    "\n",
    "Let $r$ represent a ball being red and $b$ represent a ball coming from box 1.\n",
    "\n",
    "$\n",
    "\\begin{align*}\n",
    "p(b | r) &= \\frac{p(r | b)p(b)}{p(r)} = \\frac{\\frac{3}{8} * \\frac{1}{2}}{(\\frac{3}{8}+\\frac{2}{7})*\\frac{1}{2}} = \\frac{\\frac{3}{16}}{\\frac{37}{112}} = \\frac{21}{37} \\approx .568\n",
    "\\end{align*}\n",
    "$"
   ]
  },
  {
   "cell_type": "markdown",
   "metadata": {},
   "source": [
    "### your answer to task 4(b)\n",
    "Let any capitalized number in text represent that number of red balls drawn in a row (THREE = 3 red balls drawn in a row), $RR$ represent two red balls in the box, $WW$ represent two white balls in the box, and $RW$ represent one ball of each color in the box.\n",
    "\n",
    "$\n",
    "\\begin{align*}\n",
    "p(RR | \\text{THREE}) &= \\frac{p(\\text{THREE} | RR)p(RR)}{p(\\text{THREE})}\\\\\n",
    "&= \\frac{(1)p(RR)}{p(\\text{THREE})}\\\\\n",
    "&= \\frac{(.5)(.5)}{p(\\text{THREE} | WW)p(WW) + p(\\text{THREE} | RW)p(RW) + p(\\text{THREE} | RR)p(RR)}\\\\\n",
    "&= \\frac{.25}{0*.25 + .5^3*.5 + 1*.25}\\\\\n",
    "&= \\frac{.25}{.0625 + .25}\\\\\n",
    "&= .8\n",
    "\\end{align*}\n",
    "$"
   ]
  },
  {
   "cell_type": "markdown",
   "metadata": {},
   "source": [
    "<div class=\"alert alert-block alert-info\">\n",
    "<b>Task 5:</b> (10 points).\n",
    "    \n",
    "A secret government agency has developed a scanner which determines whether a person is a terrorist. The scanner is fairly reliable; 95% of all scanned terrorists are identified as terrorists, and 95% of all upstanding citizens are identified as such. An informant tells the agency that exactly one passenger of 100 aboard an aeroplane in which you are seated is a terrorist. The police haul off the plane the first person for which the scanner tests\n",
    "positive. What is the probability that this person is a terrorist?\n",
    "    \n",
    "</div>"
   ]
  },
  {
   "cell_type": "markdown",
   "metadata": {},
   "source": [
    "### your answer to task 5\n",
    "Let $T$ represent whether or not someone is a terrorist, $t$ represent whether or not someone tested positive for terrorism, and $H$ represent whether or not someone got hauled off the plane.\n",
    "\n",
    "## \"Correct\" Version\n",
    "$\n",
    "\\begin{align*}\n",
    "p(T = 1 | H = 1) &= \\Sigma_{i=1}^{100} p(T_i = 1, t_i = 1, t_{1 \\dots i-1} = 0 | H = 1)\\\\\n",
    "&= \\Sigma_{i=1}^{100} \\frac{p(H = 1 | T_i = 1, t_i = 1, t_{1 \\dots i-1} = 0) p(T_i = 1, t_i = 1, t_{1 \\dots i-1} = 0)}{p(H = 1)}\n",
    "\\end{align*}\n",
    "$\n",
    "\n",
    "$p(H = 1 | T_i = 1, t_i = 1, t_{1 \\dots i-1} = 0) = 1$, as it is guaranteed that someone is hauled off the plane if the test comes back positive.\n",
    "\n",
    "$\n",
    "\\begin{align*}\n",
    "p(T = 1 | H = 1) &= \\Sigma_{i=1}^{100} \\frac{p(T_i = 1, t_i = 1, t_{1 \\dots i-1} = 0)}{p(H = 1)}\\\\\n",
    "&= \\Sigma_{i=1}^{100} \\frac{p(t_i = 1, t_{1 \\dots i-1} = 0 | T_i = 1)p(T_i = 1)}{p(H = 1)}\\\\\n",
    "&= \\Sigma_{i=1}^{100} \\frac{p(t_i = 1 | T_i = 1)p(T_i = 1) \\prod_{j=1}^{i-1}(t_j = 0 | T_j = 0)}{p(H = 1)}\\\\\n",
    "&= \\Sigma_{i=1}^{100} \\frac{(.95)(.01) \\prod_{j=1}^{i-1}(.95)}{p(H = 1)}\\\\\n",
    "&= \\Sigma_{i=1}^{100} \\frac{(.95)(.01)(.95)^{i-1}}{p(H = 1)}\\\\\n",
    "&= \\frac{(.95)(.01)}{p(H = 1)} \\Sigma_{i=1}^{100}(.95)^{i-1}\\\\\n",
    "&= \\frac{(.95)(.01)}{p(H = 1)} \\Sigma_{i=0}^{99}(.95)^{i}\\\\\n",
    "&= \\frac{(.95)(.01)}{p(H = 1)} \\cdot \\frac{1-.95^{100}}{1-.95}\\\\\n",
    "&= \\frac{(.95)(.01)(1-.95^{100})}{(.05)p(H = 1)}\\\\\n",
    "&= \\frac{(.19)(1-.95^{100})}{p(H = 1)}\\\\\n",
    "&= \\frac{(.19)(1-.95^{100})}{1 - p(H = 0)}\\\\\n",
    "&\\text{$p(H = 0) = .95^{99}(.05)$, as it is equal to the probability that all passengers test negative}\\\\\n",
    "&= \\frac{(.19)(1-.95^{100})}{1 - (.95^{99}(.05))}\\\\\n",
    "& \\approx .189\n",
    "\\end{align*}\n",
    "$\n",
    "\n",
    "## Breast Cancer Version\n",
    "$\n",
    "\\begin{align}\n",
    "p(T = 1 | t = 1) &= \\frac{p(t = 1 | T = 1)p(T = 1)}{p(t = 1)}\\\\\n",
    "&= \\frac{.95*.01}{p(t = 1 | T = 1)*p(T = 1)+p(t = 1 | \\sim T = 1)*p(\\sim T = 1)}\\\\\n",
    "&= \\frac{.95*.01}{.95*.01 + .05*.99}\\\\\n",
    "&= .161\n",
    "\\end{align}\n",
    "$"
   ]
  },
  {
   "cell_type": "markdown",
   "metadata": {},
   "source": [
    "The goal of the following tasks is to give you a bit of practice manipulating data, using Bayes' rule, and constructing a naive Bayes classifier.  Naive Bayes is described in `10.1` of [Barber](http://web4.cs.ucl.ac.uk/staff/D.Barber/textbook/200620.pdf) and understanding examples `10.1` and `10.2` of the text should help you do this assignment."
   ]
  },
  {
   "cell_type": "markdown",
   "metadata": {},
   "source": [
    "<div class=\"alert alert-block alert-warning\">\n",
    "<b>Dataset</b>.\n",
    "    \n",
    "The [titanic dataset](http://www.cs.toronto.edu/~delve/data/titanic/desc.html) gives the values of four categorical attributes for each of the 2201 people on board the Titanic when it struck an iceberg and sank. The attributes are social class (first class, second class, third class, crew member), age (adult or child), gender, and whether or not the person survived. The titanic dataset is available [here](https://home.cs.colorado.edu/~mozer/Teaching/syllabi/ProbabilisticModels/homework/titanic.txt).\n",
    "    \n",
    "</div>"
   ]
  },
  {
   "cell_type": "markdown",
   "metadata": {},
   "source": [
    "<div class=\"alert alert-block alert-warning\">\n",
    "<b>Preparation</b>.\n",
    "    \n",
    "Build a joint probability table, like the ones we discussed in class notes, that represents the joint distribution over all variables, i.e., $Pr(\\text{Gender}, \\text{Age}, \\text{Class}, \\text{Outcome})$.  This table should have 32 entries because $\\text{Gender} \\in \\lbrace \\text{male}, \\text{female} \\rbrace$, $\\text{Age}  \\in \\lbrace \\text{child}, \\text{adult} \\rbrace$, $\\text{Class}  \\in \\lbrace \\text{1st}, \\text{2nd}, \\text{3rd}, \\text{crew} \\rbrace$, and $\\text{Outcome} \\in \\lbrace \\text{death}, \\text{survival} \\rbrace$. \n",
    "\n",
    "You will use the data in this table for the following tasks.\n",
    "    \n",
    "</div>"
   ]
  },
  {
   "cell_type": "markdown",
   "metadata": {},
   "source": [
    "<div class=\"alert alert-block alert-info\">\n",
    "<b>Task 6:</b> Probability table (20 points).\n",
    "    \n",
    "Build a probability table indicating $Pr(\\text{Death}\\ |\\ \\text{Gender}, \\text{Age}, \\text{Class})$ for each combination of gender, age, and class. Display this table in the following way:\n",
    "\n",
    "\n",
    "<style type=\"text/css\">\n",
    ".tg  {border-collapse:collapse;border-spacing:0;}\n",
    ".tg td{border-color:black;border-style:solid;border-width:1px;font-family:Arial, sans-serif;font-size:14px;\n",
    "  overflow:hidden;padding:10px 5px;word-break:normal;}\n",
    ".tg th{border-color:black;border-style:solid;border-width:1px;font-family:Arial, sans-serif;font-size:14px;\n",
    "  font-weight:normal;overflow:hidden;padding:10px 5px;word-break:normal;}\n",
    ".tg .tg-0pky{border-color:inherit;text-align:left;vertical-align:top}\n",
    "</style>\n",
    "<table class=\"tg\">\n",
    "<thead>\n",
    "  <tr>\n",
    "    <th class=\"tg-0pky\"></th>\n",
    "    <th class=\"tg-0pky\" colspan=\"2\">Male</th>\n",
    "    <th class=\"tg-0pky\" colspan=\"2\">Female</th>\n",
    "  </tr>\n",
    "</thead>\n",
    "<tbody>\n",
    "  <tr>\n",
    "    <td class=\"tg-0pky\"></td>\n",
    "    <td class=\"tg-0pky\">Child</td>\n",
    "    <td class=\"tg-0pky\">Adult</td>\n",
    "    <td class=\"tg-0pky\">Child</td>\n",
    "    <td class=\"tg-0pky\">Adult</td>\n",
    "  </tr>\n",
    "  <tr>\n",
    "    <td class=\"tg-0pky\">First</td>\n",
    "    <td class=\"tg-0pky\"></td>\n",
    "    <td class=\"tg-0pky\"></td>\n",
    "    <td class=\"tg-0pky\"></td>\n",
    "    <td class=\"tg-0pky\"></td>\n",
    "  </tr>\n",
    "  <tr>\n",
    "    <td class=\"tg-0pky\">Second</td>\n",
    "    <td class=\"tg-0pky\"></td>\n",
    "    <td class=\"tg-0pky\"></td>\n",
    "    <td class=\"tg-0pky\"></td>\n",
    "    <td class=\"tg-0pky\"></td>\n",
    "  </tr>\n",
    "  <tr>\n",
    "    <td class=\"tg-0pky\">Third</td>\n",
    "    <td class=\"tg-0pky\"></td>\n",
    "    <td class=\"tg-0pky\"></td>\n",
    "    <td class=\"tg-0pky\"></td>\n",
    "    <td class=\"tg-0pky\"></td>\n",
    "  </tr>\n",
    "  <tr>\n",
    "    <td class=\"tg-0pky\">Crew</td>\n",
    "    <td class=\"tg-0pky\"></td>\n",
    "    <td class=\"tg-0pky\"></td>\n",
    "    <td class=\"tg-0pky\"></td>\n",
    "    <td class=\"tg-0pky\"></td>\n",
    "  </tr>\n",
    "</tbody>\n",
    "</table>    \n",
    "    \n",
    "    \n",
    "\n",
    "The rows of each table represent the different classes and the columns the different ages and genders. In each cell of the table, insert the conditional probability. \n",
    "\n",
    "After you've built the probability table, come up with a rule that uses the probabilities to predict death or survival. Then make a second table, a classification table, which lists death or survival for each feature combination. Explain the rule you chose to classify.\n",
    "    \n",
    "</div>"
   ]
  },
  {
   "cell_type": "markdown",
   "metadata": {},
   "source": [
    "<div class=\"alert alert-block alert-warning\">\n",
    "<b>Hint</b>.\n",
    "    \n",
    "* Since it is [not possible](https://www.tablesgenerator.com/html_tables) to create merged rows with Markdown, this [**Tables Generator**](https://www.tablesgenerator.com/html_tables) may be useful.\n",
    "\n",
    "* Be alert to the possibility of a cell containing no data.\n",
    "    \n",
    "</div>"
   ]
  },
  {
   "cell_type": "code",
   "execution_count": 2,
   "metadata": {},
   "outputs": [
    {
     "data": {
      "text/plain": [
       "Class  Age    Gender  Outcome\n",
       "1st    adult  female  yes        0.972222\n",
       "                      no         0.027778\n",
       "              male    no         0.674286\n",
       "                      yes        0.325714\n",
       "       child  female  yes        1.000000\n",
       "              male    yes        1.000000\n",
       "2nd    adult  female  yes        0.860215\n",
       "                      no         0.139785\n",
       "              male    no         0.916667\n",
       "                      yes        0.083333\n",
       "       child  female  yes        1.000000\n",
       "              male    yes        1.000000\n",
       "3rd    adult  female  no         0.539394\n",
       "                      yes        0.460606\n",
       "              male    no         0.837662\n",
       "                      yes        0.162338\n",
       "       child  female  no         0.548387\n",
       "                      yes        0.451613\n",
       "              male    no         0.729167\n",
       "                      yes        0.270833\n",
       "crew   adult  female  yes        0.869565\n",
       "                      no         0.130435\n",
       "              male    no         0.777262\n",
       "                      yes        0.222738\n",
       "dtype: float64"
      ]
     },
     "execution_count": 2,
     "metadata": {},
     "output_type": "execute_result"
    }
   ],
   "source": [
    "# your answer to task 6\n",
    "import numpy as np\n",
    "import pandas as pd\n",
    "\n",
    "titanic_df = pd.read_csv('titanic.txt', delim_whitespace=True, header=None, names = [\"Class\", \"Age\", \"Gender\", \"Outcome\"])\n",
    "\n",
    "titanic_df.value_counts(['Class', 'Age', 'Gender','Outcome'])/titanic_df.value_counts(['Class', 'Age', 'Gender'])"
   ]
  },
  {
   "cell_type": "markdown",
   "metadata": {},
   "source": [
    "<div class=\"alert alert-block alert-info\">\n",
    "    \n",
    "<style type=\"text/css\">\n",
    ".tg  {border-collapse:collapse;border-spacing:0;}\n",
    ".tg td{border-color:black;border-style:solid;border-width:1px;font-family:Arial, sans-serif;font-size:14px;\n",
    "  overflow:hidden;padding:10px 5px;word-break:normal;}\n",
    ".tg th{border-color:black;border-style:solid;border-width:1px;font-family:Arial, sans-serif;font-size:14px;\n",
    "  font-weight:normal;overflow:hidden;padding:10px 5px;word-break:normal;}\n",
    ".tg .tg-0pky{border-color:inherit;text-align:left;vertical-align:top}\n",
    "</style>\n",
    "<table class=\"tg\">\n",
    "<thead>\n",
    "  <tr>\n",
    "    <th class=\"tg-0pky\"></th>\n",
    "    <th class=\"tg-0pky\" colspan=\"2\">Male</th>\n",
    "    <th class=\"tg-0pky\" colspan=\"2\">Female</th>\n",
    "  </tr>\n",
    "</thead>\n",
    "<tbody>\n",
    "  <tr>\n",
    "    <td class=\"tg-0pky\"></td>\n",
    "    <td class=\"tg-0pky\">Child</td>\n",
    "    <td class=\"tg-0pky\">Adult</td>\n",
    "    <td class=\"tg-0pky\">Child</td>\n",
    "    <td class=\"tg-0pky\">Adult</td>\n",
    "  </tr>\n",
    "  <tr>\n",
    "    <td class=\"tg-0pky\">First</td>\n",
    "    <td class=\"tg-0pky\">1.000</td>\n",
    "    <td class=\"tg-0pky\">.326</td>\n",
    "    <td class=\"tg-0pky\">1.000</td>\n",
    "    <td class=\"tg-0pky\">.972</td>\n",
    "  </tr>\n",
    "  <tr>\n",
    "    <td class=\"tg-0pky\">Second</td>\n",
    "    <td class=\"tg-0pky\">1.000</td>\n",
    "    <td class=\"tg-0pky\">.083</td>\n",
    "    <td class=\"tg-0pky\">1.000</td>\n",
    "    <td class=\"tg-0pky\">.860</td>\n",
    "  </tr>\n",
    "  <tr>\n",
    "    <td class=\"tg-0pky\">Third</td>\n",
    "    <td class=\"tg-0pky\">.271</td>\n",
    "    <td class=\"tg-0pky\">.263</td>\n",
    "    <td class=\"tg-0pky\">.452</td>\n",
    "    <td class=\"tg-0pky\">.461</td>\n",
    "  </tr>\n",
    "  <tr>\n",
    "    <td class=\"tg-0pky\">Crew</td>\n",
    "    <td class=\"tg-0pky\">N/A</td>\n",
    "    <td class=\"tg-0pky\">.222</td>\n",
    "    <td class=\"tg-0pky\">N/A</td>\n",
    "    <td class=\"tg-0pky\">.870</td>\n",
    "  </tr>\n",
    "</tbody>\n",
    "</table>    \n",
    "    \n",
    "</div>"
   ]
  },
  {
   "cell_type": "markdown",
   "metadata": {},
   "source": [
    "<div class=\"alert alert-block alert-info\">\n",
    "<b>Task 7:</b> Build a Naive Bayes classifier (20 points).\n",
    "\n",
    "    \n",
    "To build the classifier, you must first construct six one-dimensional tables: \n",
    "\n",
    "    \n",
    "<ul>\n",
    "    <li>$Pr(\\text{Class}\\ |\\ \\text{death})$</li>\n",
    "    <li>$Pr(\\text{Age}\\ |\\ \\text{death})$</li>\n",
    "    <li>$Pr(\\text{Gender}\\ |\\ \\text{death})$</li>\n",
    "    <li>$Pr(\\text{Class}\\ |\\ \\text{survival})$</li>\n",
    "    <li>$Pr(\\text{Age}\\ |\\ \\text{survival})$</li>\n",
    "    <li>$Pr(\\text{Gender}\\ |\\ \\text{survival})$</li>\n",
    "</ul>    \n",
    "    \n",
    "    \n",
    "To be clear on this notation, for $Pr(\\text{Age}\\ |\\ \\text{death})$, your table should have two rows, one for adult and one for child, and you should compute, for each age group, the probability of the deceased being in that age group. Also compute the unconditional probabilities, $Pr(\\text{death})$ and $Pr(\\text{survival})$, with $Pr(\\text{death}) + Pr(\\text{survival}) = 1$. From this information, compute $Pr(\\text{death}\\ |\\ \\text{Gender}, \\text{Age}, \\text{Class})$ using the Naive Bayes assumption. In addition to the probability table, build the classification table as well.\n",
    "    \n",
    "</div>\n"
   ]
  },
  {
   "cell_type": "code",
   "execution_count": 12,
   "metadata": {},
   "outputs": [
    {
     "data": {
      "text/plain": [
       "{'Class': Class  Outcome\n",
       " 1st    no         0.081879\n",
       "        yes        0.285513\n",
       " 2nd    no         0.112081\n",
       "        yes        0.165963\n",
       " 3rd    no         0.354362\n",
       "        yes        0.250352\n",
       " crew   no         0.451678\n",
       "        yes        0.298172\n",
       " dtype: float64}"
      ]
     },
     "execution_count": 12,
     "metadata": {},
     "output_type": "execute_result"
    }
   ],
   "source": [
    "# your answer to task 7\n",
    "# titanic_df.value_counts(['Class', 'Outcome'])\n",
    "likelihood = {}\n",
    "prior = titanic_df.groupby('Outcome').size().div(len(titanic_df))\n",
    "likelihood['Class'] = titanic_df.groupby(['Class', 'Outcome']).size().div(len(titanic_df)).div(prior)\n",
    "likelihood"
   ]
  },
  {
   "cell_type": "markdown",
   "metadata": {},
   "source": [
    "<div class=\"alert alert-block alert-info\">\n",
    "<b>Task 8:</b> Discussion (10 points, bonus)\n",
    "\n",
    "    \n",
    "The classification tables you built in Tasks 6 and 7 are not identical. Discuss the advantages/disadvantages of each table for making predictions in case of another disaster like the Titanic (assuming it occurred at the same time in history). Under what circumstances would you expect an empirical table to provide better predictions? Under what circumstances would you expect the naive Bayes  table to provide better predictions?\n",
    "    \n",
    "</div>"
   ]
  },
  {
   "cell_type": "markdown",
   "metadata": {},
   "source": [
    "### your answer to task 8\n",
    "\n",
    "A naive Bayes table can help when there is fairly unorthodox crew or passenger configurations on ships (e.g. all male crew)."
   ]
  },
  {
   "cell_type": "code",
   "execution_count": null,
   "metadata": {},
   "outputs": [],
   "source": []
  }
 ],
 "metadata": {
  "kernelspec": {
   "display_name": "Python 3",
   "language": "python",
   "name": "python3"
  },
  "language_info": {
   "codemirror_mode": {
    "name": "ipython",
    "version": 3
   },
   "file_extension": ".py",
   "mimetype": "text/x-python",
   "name": "python",
   "nbconvert_exporter": "python",
   "pygments_lexer": "ipython3",
   "version": "3.8.6"
  }
 },
 "nbformat": 4,
 "nbformat_minor": 4
}
